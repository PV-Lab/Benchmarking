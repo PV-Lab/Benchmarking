{
 "cells": [
  {
   "cell_type": "code",
   "execution_count": 173,
   "metadata": {},
   "outputs": [],
   "source": [
    "import numpy as np\n",
    "import torch\n",
    "import math\n",
    "import matplotlib\n",
    "import matplotlib.pyplot as plt\n",
    "import pandas as pd\n",
    "import seaborn as sns\n",
    "import GPyOpt\n",
    "\n",
    "import os\n",
    "\n",
    "import matplotlib as mpl\n",
    "import matplotlib.tri as tri\n",
    "\n",
    "import ternary\n",
    "import pickle\n",
    "import datetime"
   ]
  },
  {
   "cell_type": "code",
   "execution_count": 174,
   "metadata": {},
   "outputs": [],
   "source": [
    "def latin_hypercube(n_pts, dim):\n",
    "    \"\"\"Basic Latin hypercube implementation with center perturbation.\"\"\"\n",
    "    X = np.zeros((n_pts, dim))\n",
    "    centers = (1.0 + 2.0 * np.arange(0.0, n_pts)) / float(2 * n_pts)\n",
    "    for i in range(dim):  # Shuffle the center locataions for each dimension.\n",
    "        X[:, i] = centers[np.random.permutation(n_pts)]\n",
    "\n",
    "    # Add some perturbations within each box\n",
    "    pert = np.random.uniform(-1.0, 1.0, (n_pts, dim)) / float(2 * n_pts)\n",
    "    X += pert\n",
    "    return X"
   ]
  },
  {
   "cell_type": "code",
   "execution_count": 175,
   "metadata": {},
   "outputs": [],
   "source": [
    "def constrained_latin_hypercube(n_goal = 15, dim = 3, n_init = 200):\n",
    "    assert n_init >= n_goal\n",
    "    \n",
    "    X = np.zeros((n_init, dim))\n",
    "    centers = (1.0 + 2.0 * np.arange(0.0, n_init)) / float(2 * n_init)\n",
    "    for i in range(dim):  # Shuffle the center locataions for each dimension.\n",
    "        X[:, i] = centers[np.random.permutation(n_init)]\n",
    "    # Add some perturbations within each box\n",
    "    pert = np.random.uniform(-1.0, 1.0, (n_init, dim)) / float(2 * n_init)\n",
    "    X += pert\n",
    "    \n",
    "    X_constrained = np.array([[100, 100, 100]])\n",
    "#     materials = ['CsPbI', 'MAPbI', 'FAPbI']\n",
    "    for i in X:\n",
    "        if 0.995 < i[0] + i[1] + i[2] <= 1.005:\n",
    "            if ((167*i[0]+217*i[1]+253*i[2])+220)/(1.4142*(119+220)) > 0.80:\n",
    "                X_constrained = np.append(X_constrained, [i], axis = 0) \n",
    "                \n",
    "    X_constrained = X_constrained[1:]\n",
    "    \n",
    "    \n",
    "    X_ = np.array([[100, 100, 100]])\n",
    "    for j in X_constrained:\n",
    "        j = np.round(j, 2)\n",
    "        if np.sum(j) == 1:\n",
    "            X_ = np.append(X_, [j], axis = 0) \n",
    "    X_ = X_[1:]\n",
    "            \n",
    "    print('found: ' + str(len(X_)) +' with n_init =' +str(n_init))\n",
    "    \n",
    "    if len(X_) >= n_goal:\n",
    "        X_ = X_[0:n_goal]\n",
    "        dataset = pd.DataFrame(X_, columns = ['Cs', 'MA', 'FA'])\n",
    "        return dataset\n",
    "    else:\n",
    "        return constrained_latin_hypercube(n_goal, dim, n_init * 2)"
   ]
  },
  {
   "cell_type": "code",
   "execution_count": null,
   "metadata": {},
   "outputs": [],
   "source": []
  }
 ],
 "metadata": {
  "kernelspec": {
   "display_name": "Python 3",
   "language": "python",
   "name": "python3"
  },
  "language_info": {
   "codemirror_mode": {
    "name": "ipython",
    "version": 3
   },
   "file_extension": ".py",
   "mimetype": "text/x-python",
   "name": "python",
   "nbconvert_exporter": "python",
   "pygments_lexer": "ipython3",
   "version": "3.7.4"
  }
 },
 "nbformat": 4,
 "nbformat_minor": 2
}
