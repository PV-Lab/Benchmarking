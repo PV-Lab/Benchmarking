{
 "cells": [
  {
   "cell_type": "code",
   "execution_count": 20,
   "metadata": {},
   "outputs": [],
   "source": [
    "import numpy as np\n",
    "import torch\n",
    "import math\n",
    "import matplotlib\n",
    "import matplotlib.pyplot as plt\n",
    "import pandas as pd\n",
    "import seaborn as sns\n",
    "import GPyOpt\n",
    "import GPy\n",
    "import random\n",
    "\n",
    "import os\n",
    "\n",
    "import matplotlib as mpl\n",
    "import matplotlib.tri as tri\n",
    "\n",
    "import ternary\n",
    "import pickle\n",
    "import datetime\n",
    "import joblib \n",
    "\n",
    "from collections import Counter\n",
    "import matplotlib.ticker as ticker\n",
    "\n",
    "import pyDOE\n",
    "import random\n",
    "from scipy.stats import norm\n",
    "\n",
    "from sklearn.ensemble import RandomForestRegressor\n",
    "from sklearn.model_selection import train_test_split\n",
    "\n",
    "from sklearn import preprocessing\n",
    "from sklearn import decomposition\n",
    "import plotly\n",
    "import plotly.graph_objects as go\n",
    "import plotly.express as px"
   ]
  },
  {
   "cell_type": "code",
   "execution_count": 3,
   "metadata": {},
   "outputs": [],
   "source": [
    "rs = 0"
   ]
  },
  {
   "cell_type": "code",
   "execution_count": 4,
   "metadata": {},
   "outputs": [
    {
     "name": "stdout",
     "output_type": "stream",
     "text": [
      "/Users/Liangqiaohao/Desktop/PV Lab/2020/March/Learning project/P3HT\n"
     ]
    }
   ],
   "source": [
    "cd /Users/Liangqiaohao/Desktop/PV Lab/2020/March/Learning project/P3HT"
   ]
  },
  {
   "cell_type": "code",
   "execution_count": 5,
   "metadata": {},
   "outputs": [],
   "source": [
    "dataset_P3HT = pd.read_csv(r'/Users/Liangqiaohao/Desktop/PV Lab/2020/March/Learning project/P3HT/P3HT_dataset.csv')\n",
    "X_P3HT = dataset_P3HT.iloc[:,5:10]\n",
    "# i put negative sign here because default BO is for minimization\n",
    "X_P3HT['Conductivity'] = -dataset_P3HT.iloc[:,13].values\n",
    "\n",
    "X_run_P3HT = X_P3HT.groupby(['P3HT content (%)', 'D1 content (%)','D2 content (%)','D6 content (%)','D8 content (%)'])['Conductivity'].agg(lambda x: x.unique().mean())\n",
    "X_run_P3HT = (X_run_P3HT.to_frame()).reset_index()\n",
    "\n",
    "s_scaler = preprocessing.StandardScaler()\n",
    "X_P3HT_normalized_values = s_scaler.fit_transform(X_run_P3HT[['P3HT content (%)', 'D1 content (%)', 'D2 content (%)','D6 content (%)', 'D8 content (%)', 'Conductivity']].values)\n",
    "X_P3HT_normalized = pd.DataFrame(X_P3HT_normalized_values, columns = ['P3HT content (%)', 'D1 content (%)', 'D2 content (%)','D6 content (%)', 'D8 content (%)', 'Conductivity'])\n"
   ]
  },
  {
   "cell_type": "code",
   "execution_count": 6,
   "metadata": {},
   "outputs": [
    {
     "name": "stdout",
     "output_type": "stream",
     "text": [
      "/Users/Liangqiaohao/Desktop/PV Lab/2020/March/Learning project/3D printing\n"
     ]
    }
   ],
   "source": [
    "cd /Users/Liangqiaohao/Desktop/PV Lab/2020/March/Learning project/3D printing"
   ]
  },
  {
   "cell_type": "code",
   "execution_count": 7,
   "metadata": {},
   "outputs": [],
   "source": [
    "dataset_3D = pd.read_csv(r'/Users/Liangqiaohao/Desktop/PV Lab/2020/March/Learning project/3D printing/parameterspace.csv')\n",
    "X_3D = dataset_3D.iloc[:,0:5]\n",
    "# i put negative sign here because default BO is for minimization\n",
    "X_3D['toughness'] = -dataset_3D.iloc[:,5].values\n",
    "X_run_3D = X_3D.groupby(['n', 'theta','r','t'])['toughness'].agg(lambda x: x.unique().mean())\n",
    "X_run_3D = (X_run_3D.to_frame()).reset_index()\n",
    "\n",
    "X_3D_normalized_values = s_scaler.fit_transform(X_run_3D[['n', 'theta','r','t', 'toughness']].values)\n",
    "X_3D_normalized = pd.DataFrame(X_3D_normalized_values, columns = ['n', 'theta','r','t', 'toughness'])\n"
   ]
  },
  {
   "cell_type": "code",
   "execution_count": 8,
   "metadata": {},
   "outputs": [
    {
     "name": "stdout",
     "output_type": "stream",
     "text": [
      "/Users/Liangqiaohao/Desktop/PV Lab/2020/March/Learning project/AgNN\n"
     ]
    }
   ],
   "source": [
    "cd /Users/Liangqiaohao/Desktop/PV Lab/2020/March/Learning project/AgNN"
   ]
  },
  {
   "cell_type": "code",
   "execution_count": 9,
   "metadata": {},
   "outputs": [],
   "source": [
    "dataset_AgNN = pd.read_csv(r'/Users/Liangqiaohao/Desktop/PV Lab/2020/March/Learning project/AgNN/AgBO_loss.csv')\n",
    "X_AgNN = dataset_AgNN.iloc[:,4:10]\n",
    "\n",
    "X_run_AgNN = X_AgNN.groupby(['QAgNO3(%)', 'Qpva(%)', 'Qtsc(%)', 'Qseed(%)', 'Qtot(uL/min)'])['loss'].agg(lambda x: x.unique().mean())\n",
    "X_run_AgNN = (X_run_AgNN.to_frame()).reset_index()\n",
    "\n",
    "X_AgNN_normalized_values = s_scaler.fit_transform(X_run_AgNN[['QAgNO3(%)', 'Qpva(%)', 'Qtsc(%)', 'Qseed(%)', 'Qtot(uL/min)', 'loss']].values)\n",
    "X_AgNN_normalized = pd.DataFrame(X_AgNN_normalized_values, columns = ['QAgNO3(%)', 'Qpva(%)', 'Qtsc(%)', 'Qseed(%)', 'Qtot(uL/min)', 'loss'])\n"
   ]
  },
  {
   "cell_type": "code",
   "execution_count": 10,
   "metadata": {},
   "outputs": [
    {
     "name": "stdout",
     "output_type": "stream",
     "text": [
      "/Users/Liangqiaohao/Desktop/PV Lab/2020/March/Learning project/C2a\n"
     ]
    }
   ],
   "source": [
    "cd /Users/Liangqiaohao/Desktop/PV Lab/2020/March/Learning project/C2a"
   ]
  },
  {
   "cell_type": "code",
   "execution_count": 11,
   "metadata": {},
   "outputs": [],
   "source": [
    "dataset_C2a = pd.read_excel(r'/Users/Liangqiaohao/Desktop/PV Lab/2020/March/Learning project/C2a/C2a learning study.xlsx')\n",
    "X_C2a = dataset_C2a.iloc[:,0:5]\n",
    "\n",
    "X_run_C2a = X_C2a.groupby(['CsPbI', 'MAPbI', 'FAPbI'])['Instability index'].agg(lambda x: x.unique().mean())\n",
    "X_run_C2a = (X_run_C2a.to_frame()).reset_index()\n",
    "\n",
    "X_C2a_normalized_values = s_scaler.fit_transform(X_run_C2a[['CsPbI', 'MAPbI', 'FAPbI', 'Instability index']].values)\n",
    "X_C2a_normalized = pd.DataFrame(X_C2a_normalized_values, columns = ['CsPbI', 'MAPbI', 'FAPbI', 'Instability index'])\n"
   ]
  },
  {
   "cell_type": "code",
   "execution_count": 12,
   "metadata": {},
   "outputs": [
    {
     "name": "stdout",
     "output_type": "stream",
     "text": [
      "/Users/Liangqiaohao/Desktop/PV Lab/2020/March/Learning project/ARES\n"
     ]
    }
   ],
   "source": [
    "cd /Users/Liangqiaohao/Desktop/PV Lab/2020/March/Learning project/ARES"
   ]
  },
  {
   "cell_type": "code",
   "execution_count": 13,
   "metadata": {},
   "outputs": [],
   "source": [
    "dataset = pd.read_csv(r'/Users/Liangqiaohao/Desktop/PV Lab/2020/March/Learning project/ARES/(Use this)2019-11-21.csv')\n",
    "X_ARES = dataset.iloc[:,0:5]\n",
    "X_ARES['Score'] = -dataset.iloc[:,4].values\n",
    "\n",
    "X_run_ARES = X_ARES.groupby(['Prime Delay', 'Print Speed', 'X Offset Correction', 'Y Offset Correction'])['Score'].agg(lambda x: x.unique().mean())\n",
    "X_run_ARES = (X_run_ARES.to_frame()).reset_index()\n",
    "\n",
    "X_ARES_normalized_values = s_scaler.fit_transform(X_run_ARES[['Prime Delay', 'Print Speed', 'X Offset Correction', 'Y Offset Correction', 'Score']].values)\n",
    "X_ARES_normalized = pd.DataFrame(X_ARES_normalized_values, columns = ['Prime Delay', 'Print Speed', 'X Offset Correction', 'Y Offset Correction', 'Score'])\n"
   ]
  },
  {
   "cell_type": "code",
   "execution_count": 14,
   "metadata": {},
   "outputs": [],
   "source": [
    "# go to a directory you want to save the GP models"
   ]
  },
  {
   "cell_type": "code",
   "execution_count": 15,
   "metadata": {},
   "outputs": [
    {
     "name": "stdout",
     "output_type": "stream",
     "text": [
      "/Users/Liangqiaohao/Desktop/PV Lab/2020/March/Learning project\n"
     ]
    }
   ],
   "source": [
    "cd /Users/Liangqiaohao/Desktop/PV Lab/2020/March/Learning project"
   ]
  },
  {
   "cell_type": "code",
   "execution_count": 16,
   "metadata": {},
   "outputs": [],
   "source": [
    "# P3HT\n",
    "# s_scaler = preprocessing.StandardScaler()\n",
    "# X_P3HT_normalized_values_ONCE = s_scaler.fit_transform(X_P3HT[['P3HT content (%)', 'D1 content (%)', 'D2 content (%)','D6 content (%)', 'D8 content (%)', 'Conductivity']].values)\n",
    "# X_P3HT_normalized_ONCE = pd.DataFrame(X_P3HT_normalized_values_ONCE, columns = ['P3HT content (%)', 'D1 content (%)', 'D2 content (%)','D6 content (%)', 'D8 content (%)', 'Conductivity'])\n",
    "# print(X_P3HT_normalized_ONCE.shape)\n",
    "XX_P3HT = X_P3HT[['P3HT content (%)', 'D1 content (%)', 'D2 content (%)','D6 content (%)', 'D8 content (%)']].values\n",
    "yy_P3HT = X_P3HT['Conductivity'].values\n",
    "\n",
    "ARD_ = False\n",
    "\n",
    "Bias_kernel = GPy.kern.Bias(XX_P3HT.shape[1], variance=1.)\n",
    "\n",
    "Matern52_kernel = GPy.kern.Matern52(XX_P3HT.shape[1], variance=1., ARD=ARD_) + Bias_kernel\n",
    "Matern32_kernel = GPy.kern.Matern32(XX_P3HT.shape[1], variance=1., ARD=ARD_) + Bias_kernel\n",
    "Expo_kernel = GPy.kern.Exponential(XX_P3HT.shape[1], variance=1., ARD=ARD_) + Bias_kernel\n",
    "RBF_kernel = GPy.kern.RBF(XX_P3HT.shape[1], variance=1., ARD=ARD_) + Bias_kernel\n",
    "MLP_kernel = GPy.kern.MLP(XX_P3HT.shape[1], variance=1., ARD=ARD_) + Bias_kernel"
   ]
  },
  {
   "cell_type": "code",
   "execution_count": 17,
   "metadata": {},
   "outputs": [
    {
     "data": {
      "text/plain": [
       "[<paramz.optimization.optimization.opt_lbfgsb at 0x1a29f74b90>,\n",
       " <paramz.optimization.optimization.opt_lbfgsb at 0x1a29f74450>,\n",
       " <paramz.optimization.optimization.opt_lbfgsb at 0x1a29f74710>,\n",
       " <paramz.optimization.optimization.opt_lbfgsb at 0x1a29f742d0>,\n",
       " <paramz.optimization.optimization.opt_lbfgsb at 0x1a29f74d90>,\n",
       " <paramz.optimization.optimization.opt_lbfgsb at 0x1a29f748d0>,\n",
       " <paramz.optimization.optimization.opt_lbfgsb at 0x1a29f74c10>,\n",
       " <paramz.optimization.optimization.opt_lbfgsb at 0x1a29f74e10>,\n",
       " <paramz.optimization.optimization.opt_lbfgsb at 0x1a29f74e90>,\n",
       " <paramz.optimization.optimization.opt_lbfgsb at 0x1a29f74dd0>]"
      ]
     },
     "execution_count": 17,
     "metadata": {},
     "output_type": "execute_result"
    }
   ],
   "source": [
    "P3HT_GP_model = GPy.models.GPRegression(X = np.array(XX_P3HT), \n",
    "                                   Y = np.array([[i] for i in yy_P3HT]), \n",
    "                                   kernel= Matern52_kernel,\n",
    "                                   noise_var = 0.01\n",
    "                                  )\n",
    "P3HT_GP_model.optimize_restarts(num_restarts=10,\n",
    "                                   parallel = True,\n",
    "                                   robust = True,\n",
    "                                   optimizer = 'bfgs',\n",
    "                                   max_iters=100,\n",
    "                                   verbose = False,\n",
    "                                   messages = True)\n",
    "        "
   ]
  },
  {
   "cell_type": "code",
   "execution_count": null,
   "metadata": {},
   "outputs": [],
   "source": [
    "# to save\n",
    "joblib.dump(P3HT_GP_model, 'P3HT_GP_model.pkl') \n",
    "# to load\n",
    "# P3HT_from_joblib = joblib.load('P3HT_GP_model.pkl') "
   ]
  },
  {
   "cell_type": "code",
   "execution_count": null,
   "metadata": {},
   "outputs": [],
   "source": [
    "##############################################################################################"
   ]
  },
  {
   "cell_type": "code",
   "execution_count": 131,
   "metadata": {},
   "outputs": [],
   "source": [
    "# C2a\n",
    "# s_scaler = preprocessing.StandardScaler()\n",
    "# X_C2a_normalized_values_ONCE = s_scaler.fit_transform(X_C2a[['CsPbI', 'MAPbI', 'FAPbI', 'Instability index']].values)\n",
    "# X_C2a_normalized_ONCE = pd.DataFrame(X_C2a_normalized_values_ONCE, columns = ['CsPbI', 'MAPbI', 'FAPbI', 'Instability index'])\n",
    "# print(X_C2a_normalized_ONCE.shape)\n",
    "XX_C2a = X_C2a[['CsPbI', 'MAPbI', 'FAPbI']].values\n",
    "yy_C2a = X_C2a['Instability index'].values\n",
    "\n",
    "ARD_ = False\n",
    "\n",
    "Bias_kernel = GPy.kern.Bias(XX_C2a.shape[1], variance=1.)\n",
    "\n",
    "Matern52_kernel = GPy.kern.Matern52(XX_C2a.shape[1], variance=1., ARD=ARD_) + Bias_kernel\n",
    "Matern32_kernel = GPy.kern.Matern32(XX_C2a.shape[1], variance=1., ARD=ARD_) + Bias_kernel\n",
    "Expo_kernel = GPy.kern.Exponential(XX_C2a.shape[1], variance=1., ARD=ARD_) + Bias_kernel\n",
    "RBF_kernel = GPy.kern.RBF(XX_C2a.shape[1], variance=1., ARD=ARD_) + Bias_kernel\n",
    "MLP_kernel = GPy.kern.MLP(XX_C2a.shape[1], variance=1., ARD=ARD_) + Bias_kernel"
   ]
  },
  {
   "cell_type": "code",
   "execution_count": 132,
   "metadata": {},
   "outputs": [
    {
     "data": {
      "text/plain": [
       "[<paramz.optimization.optimization.opt_lbfgsb at 0x1a35aa2250>,\n",
       " <paramz.optimization.optimization.opt_lbfgsb at 0x1a35aa2e90>,\n",
       " <paramz.optimization.optimization.opt_lbfgsb at 0x1a35aa29d0>,\n",
       " <paramz.optimization.optimization.opt_lbfgsb at 0x1a35aa2bd0>,\n",
       " <paramz.optimization.optimization.opt_lbfgsb at 0x1a35aa2050>,\n",
       " <paramz.optimization.optimization.opt_lbfgsb at 0x1a35aa2350>,\n",
       " <paramz.optimization.optimization.opt_lbfgsb at 0x1a35aa2cd0>,\n",
       " <paramz.optimization.optimization.opt_lbfgsb at 0x1a35aa24d0>,\n",
       " <paramz.optimization.optimization.opt_lbfgsb at 0x1a35aa2910>,\n",
       " <paramz.optimization.optimization.opt_lbfgsb at 0x1a35aa2310>]"
      ]
     },
     "execution_count": 132,
     "metadata": {},
     "output_type": "execute_result"
    }
   ],
   "source": [
    "C2a_GP_model = GPy.models.GPRegression(X = np.array(XX_C2a), \n",
    "                                   Y = np.array([[i] for i in yy_C2a]), \n",
    "                                   kernel= Matern52_kernel,\n",
    "                                   noise_var = 0.01\n",
    "                                  )\n",
    "C2a_GP_model.optimize_restarts(num_restarts=10,\n",
    "                                   parallel = True,\n",
    "                                   robust = True,\n",
    "                                   optimizer = 'bfgs',\n",
    "                                   max_iters=100,\n",
    "                                   verbose = False,\n",
    "                                   messages = True)"
   ]
  },
  {
   "cell_type": "code",
   "execution_count": null,
   "metadata": {},
   "outputs": [],
   "source": [
    "# to save\n",
    "joblib.dump(C2a_GP_model, 'C2a_GP_model.pkl') \n",
    "# to load\n",
    "# C2a_from_joblib = joblib.load('C2a_GP_model.pkl') "
   ]
  },
  {
   "cell_type": "code",
   "execution_count": 133,
   "metadata": {},
   "outputs": [],
   "source": [
    "def plot_tri(X_Cs, X_MA, X_FA, X_instability, name, scatter):\n",
    "    colormap = 'RdBu_r'\n",
    "    \n",
    "    a = X_FA\n",
    "    b = X_Cs\n",
    "    c = X_MA\n",
    "\n",
    "    x = 0.5 * ( 2.*b+c ) / ( a+b+c )\n",
    "    y = 0.5*np.sqrt(3) * c / (a+b+c)\n",
    "\n",
    "    T = tri.Triangulation(x,y)\n",
    "\n",
    "    mpl.rcParams.update({'font.size': 22})\n",
    "    fig, ax = plt.subplots(nrows=1, ncols=1)\n",
    "    fig.set_figheight(5)\n",
    "    fig.set_figwidth(7)\n",
    "\n",
    "    lims = [np.min(X_instability), np.max(X_instability)]\n",
    "    norm = matplotlib.colors.Normalize(vmin=lims[0], vmax=lims[1])\n",
    "    im=ax.tricontourf(x,y,T.triangles,X_instability)\n",
    "    im.set_norm(norm)\n",
    "    \n",
    "#     ax.scatter(x, y)\n",
    "\n",
    "    corners = np.array([[0, 0], [1, 0], [0.5,  np.sqrt(3)*0.5]])\n",
    "    triangle = tri.Triangulation(corners[:, 0], corners[:, 1])\n",
    "    refiner = tri.UniformTriRefiner(triangle)\n",
    "    trimesh = refiner.refine_triangulation(subdiv=3)\n",
    "\n",
    "    im2 = ax.triplot(trimesh,'k--')\n",
    "    \n",
    "    if scatter == True:\n",
    "        im3 = ax.scatter(x, y, s=20, c=np.ravel(X_instability), cmap=colormap, \n",
    "                         alpha=1, zorder=2, norm=norm)\n",
    "\n",
    "    myformatter=matplotlib.ticker.ScalarFormatter()\n",
    "    myformatter.set_powerlimits((1,2))\n",
    "    cbar=plt.colorbar(im, ax=ax, format=myformatter)\n",
    "    cbar.set_label('Instability Index (a.u.)', fontsize=14)\n",
    "    plt.axis('off')\n",
    "    plt.text(0.35,-0.08,'CsPbI (%)', fontsize=14)\n",
    "    plt.text(0.1,0.33,'FAPbI (%)', rotation=62, fontsize=14)\n",
    "    plt.text(0.77,0.29,'MAPbI (%)', rotation=-62, fontsize=14)\n",
    "    # plt.text(0.35,0.95,'Round '+str(i))\n",
    "    plt.text(-0.01, -0.06, '0', fontsize=14)#-0.02, -0.06\n",
    "    plt.text(0.90, -0.06, '1', fontsize=14)#093 -006\n",
    "    plt.text(-0.06, 0.02, '1', fontsize=14, rotation=62)\n",
    "    plt.text(0.41, 0.85, '0', fontsize=14, rotation=62)\n",
    "    plt.text(0.98, 0.02, '0', fontsize=14, rotation=-62)\n",
    "    plt.text(0.51, 0.85, '1', fontsize=14, rotation=-62)\n",
    "\n",
    "    plt.show()\n",
    "    \n",
    "    print('This is the '+name)"
   ]
  },
  {
   "cell_type": "code",
   "execution_count": 134,
   "metadata": {},
   "outputs": [],
   "source": [
    "materials = ['CsPbI', 'MAPbI', 'FAPbI']\n",
    "X_feature = X_C2a[['CsPbI', 'MAPbI', 'FAPbI']]\n",
    "X_Cs = np.array(X_C2a['CsPbI'].values)\n",
    "X_FA = np.array(X_C2a['FAPbI'].values)\n",
    "X_MA = np.array(X_C2a['MAPbI'].values)\n",
    "X_instability = np.array(X_C2a_normalized_ONCE['Instability index'].values)"
   ]
  },
  {
   "cell_type": "code",
   "execution_count": 135,
   "metadata": {},
   "outputs": [],
   "source": [
    "grid_linspace = np.linspace(0, 1, 101)\n",
    "grid_array = np.array([999, 999, 999])\n",
    "\n",
    "for i in grid_linspace:\n",
    "    for j in grid_linspace:\n",
    "        for k in grid_linspace:\n",
    "            x = np.array([i, j, k])\n",
    "            if i + j + k == 1:\n",
    "                grid_array = np.vstack((grid_array, x))\n",
    "grid_array = grid_array[1:]"
   ]
  },
  {
   "cell_type": "code",
   "execution_count": 136,
   "metadata": {},
   "outputs": [
    {
     "data": {
      "image/png": "[encoded data removed]",
      "text/plain": [
       "<Figure size 504x360 with 2 Axes>"
      ]
     },
     "metadata": {
      "needs_background": "light"
     },
     "output_type": "display_data"
    },
    {
     "name": "stdout",
     "output_type": "stream",
     "text": [
      "This is the GP model\n"
     ]
    }
   ],
   "source": [
    "plot_tri(grid_array[:,0],grid_array[:,1],grid_array[:,2], C2a_GP_model.predict(grid_array)[0][:,0], 'GP model', False)"
   ]
  },
  {
   "cell_type": "code",
   "execution_count": 137,
   "metadata": {},
   "outputs": [
    {
     "data": {
      "image/png": "[encoded data removed]",
      "text/plain": [
       "<Figure size 504x360 with 2 Axes>"
      ]
     },
     "metadata": {
      "needs_background": "light"
     },
     "output_type": "display_data"
    },
    {
     "name": "stdout",
     "output_type": "stream",
     "text": [
      "This is the raw experimental\n"
     ]
    }
   ],
   "source": [
    "plot_tri(X_Cs, X_MA, X_FA, X_instability, 'raw experimental', True)"
   ]
  },
  {
   "cell_type": "code",
   "execution_count": null,
   "metadata": {},
   "outputs": [],
   "source": [
    "########################################################################################"
   ]
  },
  {
   "cell_type": "code",
   "execution_count": 147,
   "metadata": {},
   "outputs": [
    {
     "name": "stdout",
     "output_type": "stream",
     "text": [
      "(3295, 5)\n"
     ]
    }
   ],
   "source": [
    "# AgNN\n",
    "\n",
    "X_AgNN['Qtot(uL/min)'] = X_AgNN['Qtot(uL/min)'] / 30\n",
    "\n",
    "XX_AgNN = X_AgNN[['QAgNO3(%)', 'Qpva(%)', 'Qtsc(%)', 'Qseed(%)', 'Qtot(uL/min)']].values\n",
    "yy_AgNN = X_AgNN['loss'].values\n",
    "print(XX_AgNN.shape)\n",
    "\n",
    "ARD_ = False\n",
    "\n",
    "Bias_kernel = GPy.kern.Bias(XX_AgNN.shape[1], variance=1.)\n",
    "\n",
    "Matern52_kernel = GPy.kern.Matern52(XX_AgNN.shape[1], variance=1., ARD=ARD_) + Bias_kernel"
   ]
  },
  {
   "cell_type": "code",
   "execution_count": 150,
   "metadata": {},
   "outputs": [
    {
     "name": "stderr",
     "output_type": "stream",
     "text": [
      "Process ForkPoolWorker-82:\n",
      "Traceback (most recent call last):\n",
      "  File \"/opt/anaconda3/lib/python3.7/multiprocessing/process.py\", line 297, in _bootstrap\n",
      "    self.run()\n",
      "  File \"/opt/anaconda3/lib/python3.7/multiprocessing/process.py\", line 99, in run\n",
      "    self._target(*self._args, **self._kwargs)\n",
      "  File \"/opt/anaconda3/lib/python3.7/multiprocessing/pool.py\", line 110, in worker\n",
      "    task = get()\n",
      "  File \"/opt/anaconda3/lib/python3.7/multiprocessing/queues.py\", line 352, in get\n",
      "    res = self._reader.recv_bytes()\n",
      "  File \"/opt/anaconda3/lib/python3.7/multiprocessing/connection.py\", line 216, in recv_bytes\n",
      "    buf = self._recv_bytes(maxlength)\n",
      "  File \"/opt/anaconda3/lib/python3.7/multiprocessing/connection.py\", line 411, in _recv_bytes\n",
      "    return self._recv(size)\n",
      "  File \"/opt/anaconda3/lib/python3.7/multiprocessing/connection.py\", line 379, in _recv\n",
      "    chunk = read(handle, remaining)\n",
      "KeyboardInterrupt\n"
     ]
    },
    {
     "name": "stdout",
     "output_type": "stream",
     "text": [
      "Ctrl+c received, terminating and joining pool.\n"
     ]
    },
    {
     "ename": "EOFError",
     "evalue": "Ran out of input",
     "output_type": "error",
     "traceback": [
      "\u001b[0;31m---------------------------------------------------------------------------\u001b[0m",
      "\u001b[0;31mKeyboardInterrupt\u001b[0m                         Traceback (most recent call last)",
      "\u001b[0;32m/opt/anaconda3/lib/python3.7/site-packages/paramz/model.py\u001b[0m in \u001b[0;36moptimize_restarts\u001b[0;34m(self, num_restarts, robust, verbose, parallel, num_processes, **kwargs)\u001b[0m\n\u001b[1;32m    158\u001b[0m                 \u001b[0;34m[\u001b[0m\u001b[0mobs\u001b[0m\u001b[0;34m[\u001b[0m\u001b[0mi\u001b[0m\u001b[0;34m]\u001b[0m\u001b[0;34m.\u001b[0m\u001b[0mrandomize\u001b[0m\u001b[0;34m(\u001b[0m\u001b[0;34m)\u001b[0m \u001b[0;32mfor\u001b[0m \u001b[0mi\u001b[0m \u001b[0;32min\u001b[0m \u001b[0mrange\u001b[0m\u001b[0;34m(\u001b[0m\u001b[0mnum_restarts\u001b[0m\u001b[0;34m-\u001b[0m\u001b[0;36m1\u001b[0m\u001b[0;34m)\u001b[0m\u001b[0;34m]\u001b[0m\u001b[0;34m\u001b[0m\u001b[0;34m\u001b[0m\u001b[0m\n\u001b[0;32m--> 159\u001b[0;31m                 \u001b[0mjobs\u001b[0m \u001b[0;34m=\u001b[0m \u001b[0mpool\u001b[0m\u001b[0;34m.\u001b[0m\u001b[0mmap\u001b[0m\u001b[0;34m(\u001b[0m\u001b[0mopt_wrapper\u001b[0m\u001b[0;34m,\u001b[0m \u001b[0;34m[\u001b[0m\u001b[0;34m(\u001b[0m\u001b[0mo\u001b[0m\u001b[0;34m,\u001b[0m\u001b[0mkwargs\u001b[0m\u001b[0;34m)\u001b[0m \u001b[0;32mfor\u001b[0m \u001b[0mo\u001b[0m \u001b[0;32min\u001b[0m \u001b[0mobs\u001b[0m\u001b[0;34m]\u001b[0m\u001b[0;34m)\u001b[0m\u001b[0;34m\u001b[0m\u001b[0;34m\u001b[0m\u001b[0m\n\u001b[0m\u001b[1;32m    160\u001b[0m                 \u001b[0mpool\u001b[0m\u001b[0;34m.\u001b[0m\u001b[0mclose\u001b[0m\u001b[0;34m(\u001b[0m\u001b[0;34m)\u001b[0m\u001b[0;34m\u001b[0m\u001b[0;34m\u001b[0m\u001b[0m\n",
      "\u001b[0;32m/opt/anaconda3/lib/python3.7/multiprocessing/pool.py\u001b[0m in \u001b[0;36mmap\u001b[0;34m(self, func, iterable, chunksize)\u001b[0m\n\u001b[1;32m    267\u001b[0m         '''\n\u001b[0;32m--> 268\u001b[0;31m         \u001b[0;32mreturn\u001b[0m \u001b[0mself\u001b[0m\u001b[0;34m.\u001b[0m\u001b[0m_map_async\u001b[0m\u001b[0;34m(\u001b[0m\u001b[0mfunc\u001b[0m\u001b[0;34m,\u001b[0m \u001b[0miterable\u001b[0m\u001b[0;34m,\u001b[0m \u001b[0mmapstar\u001b[0m\u001b[0;34m,\u001b[0m \u001b[0mchunksize\u001b[0m\u001b[0;34m)\u001b[0m\u001b[0;34m.\u001b[0m\u001b[0mget\u001b[0m\u001b[0;34m(\u001b[0m\u001b[0;34m)\u001b[0m\u001b[0;34m\u001b[0m\u001b[0;34m\u001b[0m\u001b[0m\n\u001b[0m\u001b[1;32m    269\u001b[0m \u001b[0;34m\u001b[0m\u001b[0m\n",
      "\u001b[0;32m/opt/anaconda3/lib/python3.7/multiprocessing/pool.py\u001b[0m in \u001b[0;36mget\u001b[0;34m(self, timeout)\u001b[0m\n\u001b[1;32m    650\u001b[0m     \u001b[0;32mdef\u001b[0m \u001b[0mget\u001b[0m\u001b[0;34m(\u001b[0m\u001b[0mself\u001b[0m\u001b[0;34m,\u001b[0m \u001b[0mtimeout\u001b[0m\u001b[0;34m=\u001b[0m\u001b[0;32mNone\u001b[0m\u001b[0;34m)\u001b[0m\u001b[0;34m:\u001b[0m\u001b[0;34m\u001b[0m\u001b[0;34m\u001b[0m\u001b[0m\n\u001b[0;32m--> 651\u001b[0;31m         \u001b[0mself\u001b[0m\u001b[0;34m.\u001b[0m\u001b[0mwait\u001b[0m\u001b[0;34m(\u001b[0m\u001b[0mtimeout\u001b[0m\u001b[0;34m)\u001b[0m\u001b[0;34m\u001b[0m\u001b[0;34m\u001b[0m\u001b[0m\n\u001b[0m\u001b[1;32m    652\u001b[0m         \u001b[0;32mif\u001b[0m \u001b[0;32mnot\u001b[0m \u001b[0mself\u001b[0m\u001b[0;34m.\u001b[0m\u001b[0mready\u001b[0m\u001b[0;34m(\u001b[0m\u001b[0;34m)\u001b[0m\u001b[0;34m:\u001b[0m\u001b[0;34m\u001b[0m\u001b[0;34m\u001b[0m\u001b[0m\n",
      "\u001b[0;32m/opt/anaconda3/lib/python3.7/multiprocessing/pool.py\u001b[0m in \u001b[0;36mwait\u001b[0;34m(self, timeout)\u001b[0m\n\u001b[1;32m    647\u001b[0m     \u001b[0;32mdef\u001b[0m \u001b[0mwait\u001b[0m\u001b[0;34m(\u001b[0m\u001b[0mself\u001b[0m\u001b[0;34m,\u001b[0m \u001b[0mtimeout\u001b[0m\u001b[0;34m=\u001b[0m\u001b[0;32mNone\u001b[0m\u001b[0;34m)\u001b[0m\u001b[0;34m:\u001b[0m\u001b[0;34m\u001b[0m\u001b[0;34m\u001b[0m\u001b[0m\n\u001b[0;32m--> 648\u001b[0;31m         \u001b[0mself\u001b[0m\u001b[0;34m.\u001b[0m\u001b[0m_event\u001b[0m\u001b[0;34m.\u001b[0m\u001b[0mwait\u001b[0m\u001b[0;34m(\u001b[0m\u001b[0mtimeout\u001b[0m\u001b[0;34m)\u001b[0m\u001b[0;34m\u001b[0m\u001b[0;34m\u001b[0m\u001b[0m\n\u001b[0m\u001b[1;32m    649\u001b[0m \u001b[0;34m\u001b[0m\u001b[0m\n",
      "\u001b[0;32m/opt/anaconda3/lib/python3.7/threading.py\u001b[0m in \u001b[0;36mwait\u001b[0;34m(self, timeout)\u001b[0m\n\u001b[1;32m    551\u001b[0m             \u001b[0;32mif\u001b[0m \u001b[0;32mnot\u001b[0m \u001b[0msignaled\u001b[0m\u001b[0;34m:\u001b[0m\u001b[0;34m\u001b[0m\u001b[0;34m\u001b[0m\u001b[0m\n\u001b[0;32m--> 552\u001b[0;31m                 \u001b[0msignaled\u001b[0m \u001b[0;34m=\u001b[0m \u001b[0mself\u001b[0m\u001b[0;34m.\u001b[0m\u001b[0m_cond\u001b[0m\u001b[0;34m.\u001b[0m\u001b[0mwait\u001b[0m\u001b[0;34m(\u001b[0m\u001b[0mtimeout\u001b[0m\u001b[0;34m)\u001b[0m\u001b[0;34m\u001b[0m\u001b[0;34m\u001b[0m\u001b[0m\n\u001b[0m\u001b[1;32m    553\u001b[0m             \u001b[0;32mreturn\u001b[0m \u001b[0msignaled\u001b[0m\u001b[0;34m\u001b[0m\u001b[0;34m\u001b[0m\u001b[0m\n",
      "\u001b[0;32m/opt/anaconda3/lib/python3.7/threading.py\u001b[0m in \u001b[0;36mwait\u001b[0;34m(self, timeout)\u001b[0m\n\u001b[1;32m    295\u001b[0m             \u001b[0;32mif\u001b[0m \u001b[0mtimeout\u001b[0m \u001b[0;32mis\u001b[0m \u001b[0;32mNone\u001b[0m\u001b[0;34m:\u001b[0m\u001b[0;34m\u001b[0m\u001b[0;34m\u001b[0m\u001b[0m\n\u001b[0;32m--> 296\u001b[0;31m                 \u001b[0mwaiter\u001b[0m\u001b[0;34m.\u001b[0m\u001b[0macquire\u001b[0m\u001b[0;34m(\u001b[0m\u001b[0;34m)\u001b[0m\u001b[0;34m\u001b[0m\u001b[0;34m\u001b[0m\u001b[0m\n\u001b[0m\u001b[1;32m    297\u001b[0m                 \u001b[0mgotit\u001b[0m \u001b[0;34m=\u001b[0m \u001b[0;32mTrue\u001b[0m\u001b[0;34m\u001b[0m\u001b[0;34m\u001b[0m\u001b[0m\n",
      "\u001b[0;31mKeyboardInterrupt\u001b[0m: ",
      "\nDuring handling of the above exception, another exception occurred:\n",
      "\u001b[0;31mEOFError\u001b[0m                                  Traceback (most recent call last)",
      "\u001b[0;32m<ipython-input-150-1c536d3b4a2c>\u001b[0m in \u001b[0;36m<module>\u001b[0;34m\u001b[0m\n\u001b[1;32m     10\u001b[0m                                    \u001b[0mmax_iters\u001b[0m\u001b[0;34m=\u001b[0m\u001b[0;36m100\u001b[0m\u001b[0;34m,\u001b[0m\u001b[0;34m\u001b[0m\u001b[0;34m\u001b[0m\u001b[0m\n\u001b[1;32m     11\u001b[0m                                    \u001b[0mverbose\u001b[0m \u001b[0;34m=\u001b[0m \u001b[0;32mFalse\u001b[0m\u001b[0;34m,\u001b[0m\u001b[0;34m\u001b[0m\u001b[0;34m\u001b[0m\u001b[0m\n\u001b[0;32m---> 12\u001b[0;31m                                    messages = True)\n\u001b[0m",
      "\u001b[0;32m/opt/anaconda3/lib/python3.7/site-packages/paramz/model.py\u001b[0m in \u001b[0;36moptimize_restarts\u001b[0;34m(self, num_restarts, robust, verbose, parallel, num_processes, **kwargs)\u001b[0m\n\u001b[1;32m    162\u001b[0m             \u001b[0;32mexcept\u001b[0m \u001b[0mKeyboardInterrupt\u001b[0m\u001b[0;34m:\u001b[0m\u001b[0;34m\u001b[0m\u001b[0;34m\u001b[0m\u001b[0m\n\u001b[1;32m    163\u001b[0m                 \u001b[0mprint\u001b[0m\u001b[0;34m(\u001b[0m\u001b[0;34m\"Ctrl+c received, terminating and joining pool.\"\u001b[0m\u001b[0;34m)\u001b[0m\u001b[0;34m\u001b[0m\u001b[0;34m\u001b[0m\u001b[0m\n\u001b[0;32m--> 164\u001b[0;31m                 \u001b[0mpool\u001b[0m\u001b[0;34m.\u001b[0m\u001b[0mterminate\u001b[0m\u001b[0;34m(\u001b[0m\u001b[0;34m)\u001b[0m\u001b[0;34m\u001b[0m\u001b[0;34m\u001b[0m\u001b[0m\n\u001b[0m\u001b[1;32m    165\u001b[0m                 \u001b[0mpool\u001b[0m\u001b[0;34m.\u001b[0m\u001b[0mjoin\u001b[0m\u001b[0;34m(\u001b[0m\u001b[0;34m)\u001b[0m\u001b[0;34m\u001b[0m\u001b[0;34m\u001b[0m\u001b[0m\n\u001b[1;32m    166\u001b[0m \u001b[0;34m\u001b[0m\u001b[0m\n",
      "\u001b[0;32m/opt/anaconda3/lib/python3.7/multiprocessing/pool.py\u001b[0m in \u001b[0;36mterminate\u001b[0;34m(self)\u001b[0m\n\u001b[1;32m    546\u001b[0m         \u001b[0mself\u001b[0m\u001b[0;34m.\u001b[0m\u001b[0m_state\u001b[0m \u001b[0;34m=\u001b[0m \u001b[0mTERMINATE\u001b[0m\u001b[0;34m\u001b[0m\u001b[0;34m\u001b[0m\u001b[0m\n\u001b[1;32m    547\u001b[0m         \u001b[0mself\u001b[0m\u001b[0;34m.\u001b[0m\u001b[0m_worker_handler\u001b[0m\u001b[0;34m.\u001b[0m\u001b[0m_state\u001b[0m \u001b[0;34m=\u001b[0m \u001b[0mTERMINATE\u001b[0m\u001b[0;34m\u001b[0m\u001b[0;34m\u001b[0m\u001b[0m\n\u001b[0;32m--> 548\u001b[0;31m         \u001b[0mself\u001b[0m\u001b[0;34m.\u001b[0m\u001b[0m_terminate\u001b[0m\u001b[0;34m(\u001b[0m\u001b[0;34m)\u001b[0m\u001b[0;34m\u001b[0m\u001b[0;34m\u001b[0m\u001b[0m\n\u001b[0m\u001b[1;32m    549\u001b[0m \u001b[0;34m\u001b[0m\u001b[0m\n\u001b[1;32m    550\u001b[0m     \u001b[0;32mdef\u001b[0m \u001b[0mjoin\u001b[0m\u001b[0;34m(\u001b[0m\u001b[0mself\u001b[0m\u001b[0;34m)\u001b[0m\u001b[0;34m:\u001b[0m\u001b[0;34m\u001b[0m\u001b[0;34m\u001b[0m\u001b[0m\n",
      "\u001b[0;32m/opt/anaconda3/lib/python3.7/multiprocessing/util.py\u001b[0m in \u001b[0;36m__call__\u001b[0;34m(self, wr, _finalizer_registry, sub_debug, getpid)\u001b[0m\n\u001b[1;32m    187\u001b[0m                 sub_debug('finalizer calling %s with args %s and kwargs %s',\n\u001b[1;32m    188\u001b[0m                           self._callback, self._args, self._kwargs)\n\u001b[0;32m--> 189\u001b[0;31m                 \u001b[0mres\u001b[0m \u001b[0;34m=\u001b[0m \u001b[0mself\u001b[0m\u001b[0;34m.\u001b[0m\u001b[0m_callback\u001b[0m\u001b[0;34m(\u001b[0m\u001b[0;34m*\u001b[0m\u001b[0mself\u001b[0m\u001b[0;34m.\u001b[0m\u001b[0m_args\u001b[0m\u001b[0;34m,\u001b[0m \u001b[0;34m**\u001b[0m\u001b[0mself\u001b[0m\u001b[0;34m.\u001b[0m\u001b[0m_kwargs\u001b[0m\u001b[0;34m)\u001b[0m\u001b[0;34m\u001b[0m\u001b[0;34m\u001b[0m\u001b[0m\n\u001b[0m\u001b[1;32m    190\u001b[0m             \u001b[0mself\u001b[0m\u001b[0;34m.\u001b[0m\u001b[0m_weakref\u001b[0m \u001b[0;34m=\u001b[0m \u001b[0mself\u001b[0m\u001b[0;34m.\u001b[0m\u001b[0m_callback\u001b[0m \u001b[0;34m=\u001b[0m \u001b[0mself\u001b[0m\u001b[0;34m.\u001b[0m\u001b[0m_args\u001b[0m \u001b[0;34m=\u001b[0m\u001b[0;31m \u001b[0m\u001b[0;31m\\\u001b[0m\u001b[0;34m\u001b[0m\u001b[0;34m\u001b[0m\u001b[0m\n\u001b[1;32m    191\u001b[0m                             \u001b[0mself\u001b[0m\u001b[0;34m.\u001b[0m\u001b[0m_kwargs\u001b[0m \u001b[0;34m=\u001b[0m \u001b[0mself\u001b[0m\u001b[0;34m.\u001b[0m\u001b[0m_key\u001b[0m \u001b[0;34m=\u001b[0m \u001b[0;32mNone\u001b[0m\u001b[0;34m\u001b[0m\u001b[0;34m\u001b[0m\u001b[0m\n",
      "\u001b[0;32m/opt/anaconda3/lib/python3.7/multiprocessing/pool.py\u001b[0m in \u001b[0;36m_terminate_pool\u001b[0;34m(cls, taskqueue, inqueue, outqueue, pool, worker_handler, task_handler, result_handler, cache)\u001b[0m\n\u001b[1;32m    579\u001b[0m \u001b[0;34m\u001b[0m\u001b[0m\n\u001b[1;32m    580\u001b[0m         \u001b[0mutil\u001b[0m\u001b[0;34m.\u001b[0m\u001b[0mdebug\u001b[0m\u001b[0;34m(\u001b[0m\u001b[0;34m'helping task handler/workers to finish'\u001b[0m\u001b[0;34m)\u001b[0m\u001b[0;34m\u001b[0m\u001b[0;34m\u001b[0m\u001b[0m\n\u001b[0;32m--> 581\u001b[0;31m         \u001b[0mcls\u001b[0m\u001b[0;34m.\u001b[0m\u001b[0m_help_stuff_finish\u001b[0m\u001b[0;34m(\u001b[0m\u001b[0minqueue\u001b[0m\u001b[0;34m,\u001b[0m \u001b[0mtask_handler\u001b[0m\u001b[0;34m,\u001b[0m \u001b[0mlen\u001b[0m\u001b[0;34m(\u001b[0m\u001b[0mpool\u001b[0m\u001b[0;34m)\u001b[0m\u001b[0;34m)\u001b[0m\u001b[0;34m\u001b[0m\u001b[0;34m\u001b[0m\u001b[0m\n\u001b[0m\u001b[1;32m    582\u001b[0m \u001b[0;34m\u001b[0m\u001b[0m\n\u001b[1;32m    583\u001b[0m         \u001b[0;32mif\u001b[0m \u001b[0;34m(\u001b[0m\u001b[0;32mnot\u001b[0m \u001b[0mresult_handler\u001b[0m\u001b[0;34m.\u001b[0m\u001b[0mis_alive\u001b[0m\u001b[0;34m(\u001b[0m\u001b[0;34m)\u001b[0m\u001b[0;34m)\u001b[0m \u001b[0;32mand\u001b[0m \u001b[0;34m(\u001b[0m\u001b[0mlen\u001b[0m\u001b[0;34m(\u001b[0m\u001b[0mcache\u001b[0m\u001b[0;34m)\u001b[0m \u001b[0;34m!=\u001b[0m \u001b[0;36m0\u001b[0m\u001b[0;34m)\u001b[0m\u001b[0;34m:\u001b[0m\u001b[0;34m\u001b[0m\u001b[0;34m\u001b[0m\u001b[0m\n",
      "\u001b[0;32m/opt/anaconda3/lib/python3.7/multiprocessing/pool.py\u001b[0m in \u001b[0;36m_help_stuff_finish\u001b[0;34m(inqueue, task_handler, size)\u001b[0m\n\u001b[1;32m    566\u001b[0m         \u001b[0minqueue\u001b[0m\u001b[0;34m.\u001b[0m\u001b[0m_rlock\u001b[0m\u001b[0;34m.\u001b[0m\u001b[0macquire\u001b[0m\u001b[0;34m(\u001b[0m\u001b[0;34m)\u001b[0m\u001b[0;34m\u001b[0m\u001b[0;34m\u001b[0m\u001b[0m\n\u001b[1;32m    567\u001b[0m         \u001b[0;32mwhile\u001b[0m \u001b[0mtask_handler\u001b[0m\u001b[0;34m.\u001b[0m\u001b[0mis_alive\u001b[0m\u001b[0;34m(\u001b[0m\u001b[0;34m)\u001b[0m \u001b[0;32mand\u001b[0m \u001b[0minqueue\u001b[0m\u001b[0;34m.\u001b[0m\u001b[0m_reader\u001b[0m\u001b[0;34m.\u001b[0m\u001b[0mpoll\u001b[0m\u001b[0;34m(\u001b[0m\u001b[0;34m)\u001b[0m\u001b[0;34m:\u001b[0m\u001b[0;34m\u001b[0m\u001b[0;34m\u001b[0m\u001b[0m\n\u001b[0;32m--> 568\u001b[0;31m             \u001b[0minqueue\u001b[0m\u001b[0;34m.\u001b[0m\u001b[0m_reader\u001b[0m\u001b[0;34m.\u001b[0m\u001b[0mrecv\u001b[0m\u001b[0;34m(\u001b[0m\u001b[0;34m)\u001b[0m\u001b[0;34m\u001b[0m\u001b[0;34m\u001b[0m\u001b[0m\n\u001b[0m\u001b[1;32m    569\u001b[0m             \u001b[0mtime\u001b[0m\u001b[0;34m.\u001b[0m\u001b[0msleep\u001b[0m\u001b[0;34m(\u001b[0m\u001b[0;36m0\u001b[0m\u001b[0;34m)\u001b[0m\u001b[0;34m\u001b[0m\u001b[0;34m\u001b[0m\u001b[0m\n\u001b[1;32m    570\u001b[0m \u001b[0;34m\u001b[0m\u001b[0m\n",
      "\u001b[0;32m/opt/anaconda3/lib/python3.7/multiprocessing/connection.py\u001b[0m in \u001b[0;36mrecv\u001b[0;34m(self)\u001b[0m\n\u001b[1;32m    249\u001b[0m         \u001b[0mself\u001b[0m\u001b[0;34m.\u001b[0m\u001b[0m_check_readable\u001b[0m\u001b[0;34m(\u001b[0m\u001b[0;34m)\u001b[0m\u001b[0;34m\u001b[0m\u001b[0;34m\u001b[0m\u001b[0m\n\u001b[1;32m    250\u001b[0m         \u001b[0mbuf\u001b[0m \u001b[0;34m=\u001b[0m \u001b[0mself\u001b[0m\u001b[0;34m.\u001b[0m\u001b[0m_recv_bytes\u001b[0m\u001b[0;34m(\u001b[0m\u001b[0;34m)\u001b[0m\u001b[0;34m\u001b[0m\u001b[0;34m\u001b[0m\u001b[0m\n\u001b[0;32m--> 251\u001b[0;31m         \u001b[0;32mreturn\u001b[0m \u001b[0m_ForkingPickler\u001b[0m\u001b[0;34m.\u001b[0m\u001b[0mloads\u001b[0m\u001b[0;34m(\u001b[0m\u001b[0mbuf\u001b[0m\u001b[0;34m.\u001b[0m\u001b[0mgetbuffer\u001b[0m\u001b[0;34m(\u001b[0m\u001b[0;34m)\u001b[0m\u001b[0;34m)\u001b[0m\u001b[0;34m\u001b[0m\u001b[0;34m\u001b[0m\u001b[0m\n\u001b[0m\u001b[1;32m    252\u001b[0m \u001b[0;34m\u001b[0m\u001b[0m\n\u001b[1;32m    253\u001b[0m     \u001b[0;32mdef\u001b[0m \u001b[0mpoll\u001b[0m\u001b[0;34m(\u001b[0m\u001b[0mself\u001b[0m\u001b[0;34m,\u001b[0m \u001b[0mtimeout\u001b[0m\u001b[0;34m=\u001b[0m\u001b[0;36m0.0\u001b[0m\u001b[0;34m)\u001b[0m\u001b[0;34m:\u001b[0m\u001b[0;34m\u001b[0m\u001b[0;34m\u001b[0m\u001b[0m\n",
      "\u001b[0;31mEOFError\u001b[0m: Ran out of input"
     ]
    }
   ],
   "source": [
    "AgNN_GP_model = GPy.models.GPRegression(X = np.array(XX_AgNN), \n",
    "                                   Y = np.array([[i] for i in yy_AgNN]), \n",
    "                                   kernel= Matern52_kernel,\n",
    "                                   noise_var = 0.01\n",
    "                                  )\n",
    "AgNN_GP_model.optimize_restarts(num_restarts=10,\n",
    "                                   parallel = True,\n",
    "                                   robust = True,\n",
    "                                   optimizer = 'bfgs',\n",
    "                                   max_iters=100,\n",
    "                                   verbose = False,\n",
    "                                   messages = True)"
   ]
  },
  {
   "cell_type": "code",
   "execution_count": null,
   "metadata": {},
   "outputs": [],
   "source": [
    "# to save\n",
    "joblib.dump(AgNN_GP_model, 'AgNN_GP_model.pkl') \n",
    "# to load\n",
    "# AgNN_from_joblib = joblib.load('AgNN_GP_model.pkl') "
   ]
  },
  {
   "cell_type": "code",
   "execution_count": null,
   "metadata": {},
   "outputs": [],
   "source": [
    "###############################################################################"
   ]
  },
  {
   "cell_type": "code",
   "execution_count": 151,
   "metadata": {},
   "outputs": [
    {
     "name": "stdout",
     "output_type": "stream",
     "text": [
      "(100, 5)\n"
     ]
    }
   ],
   "source": [
    "# ARES\n",
    "XX_ARES = X_ARES[['Prime Delay', 'Print Speed', 'X Offset Correction', 'Y Offset Correction']].values\n",
    "yy_ARES = X_ARES['Score'].values\n",
    "print(X_ARES.shape)\n",
    "\n",
    "ARD_ = False\n",
    "\n",
    "Bias_kernel = GPy.kern.Bias(XX_ARES.shape[1], variance=1.)\n",
    "\n",
    "Matern52_kernel = GPy.kern.Matern52(XX_ARES.shape[1], variance=1., ARD=ARD_) + Bias_kernel"
   ]
  },
  {
   "cell_type": "code",
   "execution_count": 152,
   "metadata": {},
   "outputs": [
    {
     "data": {
      "text/plain": [
       "[<paramz.optimization.optimization.opt_lbfgsb at 0x1a35721c50>,\n",
       " <paramz.optimization.optimization.opt_lbfgsb at 0x1a3ad91ed0>,\n",
       " <paramz.optimization.optimization.opt_lbfgsb at 0x1a35721c10>,\n",
       " <paramz.optimization.optimization.opt_lbfgsb at 0x1a35721f50>,\n",
       " <paramz.optimization.optimization.opt_lbfgsb at 0x1a3adbb610>,\n",
       " <paramz.optimization.optimization.opt_lbfgsb at 0x1a3adbb710>,\n",
       " <paramz.optimization.optimization.opt_lbfgsb at 0x1a35721290>,\n",
       " <paramz.optimization.optimization.opt_lbfgsb at 0x1a365a6450>,\n",
       " <paramz.optimization.optimization.opt_lbfgsb at 0x1a365c3b10>,\n",
       " <paramz.optimization.optimization.opt_lbfgsb at 0x1a3adbb6d0>]"
      ]
     },
     "execution_count": 152,
     "metadata": {},
     "output_type": "execute_result"
    }
   ],
   "source": [
    "ARES_GP_model = GPy.models.GPRegression(X = np.array(XX_ARES), \n",
    "                                   Y = np.array([[i] for i in yy_ARES]), \n",
    "                                   kernel= Matern52_kernel,\n",
    "                                   noise_var = 0.01\n",
    "                                  )\n",
    "ARES_GP_model.optimize_restarts(num_restarts=10,\n",
    "                                   parallel = True,\n",
    "                                   robust = True,\n",
    "                                   optimizer = 'bfgs',\n",
    "                                   max_iters=100,\n",
    "                                   verbose = False,\n",
    "                                   messages = True)"
   ]
  },
  {
   "cell_type": "code",
   "execution_count": null,
   "metadata": {},
   "outputs": [],
   "source": [
    "# to save\n",
    "joblib.dump(ARES_GP_model, 'ARES_GP_model.pkl') \n",
    "# to load\n",
    "# ARES_from_joblib = joblib.load('ARES_GP_model.pkl') "
   ]
  },
  {
   "cell_type": "code",
   "execution_count": null,
   "metadata": {},
   "outputs": [],
   "source": [
    "###################################################################################"
   ]
  },
  {
   "cell_type": "code",
   "execution_count": null,
   "metadata": {},
   "outputs": [],
   "source": [
    "# 3D Printing\n",
    "# s_scaler = preprocessing.StandardScaler()\n",
    "# X_3D_normalized_values_ONCE = s_scaler.fit_transform(X_3D[['n', 'theta','r','t', 'toughness']].values)\n",
    "# X_3D_normalized_ONCE = pd.DataFrame(X_3D_normalized_values_ONCE, columns = ['n', 'theta','r','t', 'toughness'])\n",
    "# print(X_3D_normalized_ONCE.shape)\n",
    "XX_Printing = X_3D[['n', 'theta','r','t']].values\n",
    "yy_Printing = X_3D['toughness'].values\n",
    "print(XX_3D.shape)\n",
    "\n",
    "ARD_ = False\n",
    "\n",
    "Bias_kernel = GPy.kern.Bias(XX_Printing.shape[1], variance=1.)\n",
    "\n",
    "Matern52_kernel = GPy.kern.Matern52(XX_Printing.shape[1], variance=1., ARD=ARD_) + Bias_kernel"
   ]
  },
  {
   "cell_type": "code",
   "execution_count": null,
   "metadata": {},
   "outputs": [],
   "source": [
    "Printing_GP_model = GPy.models.GPRegression(X = np.array(XX_Printing), \n",
    "                                   Y = np.array([[i] for i in yy_Printing]), \n",
    "                                   kernel= Matern52_kernel,\n",
    "                                   noise_var = 0.01\n",
    "                                  )\n",
    "Printing_GP_model.optimize_restarts(num_restarts=10,\n",
    "                                   parallel = True,\n",
    "                                   robust = True,\n",
    "                                   optimizer = 'bfgs',\n",
    "                                   max_iters=100,\n",
    "                                   verbose = False,\n",
    "                                   messages = True)"
   ]
  },
  {
   "cell_type": "code",
   "execution_count": null,
   "metadata": {},
   "outputs": [],
   "source": [
    "# to save\n",
    "joblib.dump(Printing_GP_model, 'Printing_GP_model.pkl') \n",
    "# to load\n",
    "# Printing_from_joblib = joblib.load('Printing_GP_model.pkl')"
   ]
  },
  {
   "cell_type": "code",
   "execution_count": null,
   "metadata": {},
   "outputs": [],
   "source": [
    "###################################################################################"
   ]
  },
  {
   "cell_type": "code",
   "execution_count": null,
   "metadata": {},
   "outputs": [],
   "source": []
  },
  {
   "cell_type": "code",
   "execution_count": null,
   "metadata": {},
   "outputs": [],
   "source": []
  },
  {
   "cell_type": "code",
   "execution_count": null,
   "metadata": {},
   "outputs": [],
   "source": []
  },
  {
   "cell_type": "code",
   "execution_count": null,
   "metadata": {},
   "outputs": [],
   "source": []
  },
  {
   "cell_type": "code",
   "execution_count": null,
   "metadata": {},
   "outputs": [],
   "source": []
  },
  {
   "cell_type": "code",
   "execution_count": null,
   "metadata": {},
   "outputs": [],
   "source": []
  },
  {
   "cell_type": "code",
   "execution_count": null,
   "metadata": {},
   "outputs": [],
   "source": []
  }
 ],
 "metadata": {
  "kernelspec": {
   "display_name": "Python 3",
   "language": "python",
   "name": "python3"
  },
  "language_info": {
   "codemirror_mode": {
    "name": "ipython",
    "version": 3
   },
   "file_extension": ".py",
   "mimetype": "text/x-python",
   "name": "python",
   "nbconvert_exporter": "python",
   "pygments_lexer": "ipython3",
   "version": "3.7.6"
  }
 },
 "nbformat": 4,
 "nbformat_minor": 4
}
