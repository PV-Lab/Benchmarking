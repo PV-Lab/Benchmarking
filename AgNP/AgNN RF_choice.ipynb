{
 "cells": [
  {
   "cell_type": "code",
   "execution_count": 1,
   "metadata": {},
   "outputs": [],
   "source": [
    "import numpy as np\n",
    "import torch\n",
    "import math\n",
    "import matplotlib\n",
    "import matplotlib.pyplot as plt\n",
    "import pandas as pd\n",
    "import seaborn as sns\n",
    "import GPyOpt\n",
    "import GPy\n",
    "\n",
    "import os\n",
    "\n",
    "import matplotlib as mpl\n",
    "import matplotlib.tri as tri\n",
    "\n",
    "import ternary\n",
    "import pickle\n",
    "import datetime\n",
    "\n",
    "from collections import Counter\n",
    "import matplotlib.ticker as ticker\n",
    "import random\n",
    "\n",
    "import pyDOE\n",
    "import random\n",
    "from scipy.stats import norm\n",
    "\n",
    "from sklearn.ensemble import RandomForestRegressor\n",
    "from sklearn.model_selection import GridSearchCV\n",
    "from sklearn.model_selection import train_test_split"
   ]
  },
  {
   "cell_type": "code",
   "execution_count": 2,
   "metadata": {},
   "outputs": [
    {
     "name": "stdout",
     "output_type": "stream",
     "text": [
      "/Users/Liangqiaohao/Desktop/PV Lab/2020/March/Learning project/AgNN\n"
     ]
    }
   ],
   "source": [
    "cd /Users/Liangqiaohao/Desktop/PV Lab/2020/March/Learning project/AgNN"
   ]
  },
  {
   "cell_type": "code",
   "execution_count": 3,
   "metadata": {},
   "outputs": [
    {
     "data": {
      "text/html": [
       "<div>\n",
       "<style scoped>\n",
       "    .dataframe tbody tr th:only-of-type {\n",
       "        vertical-align: middle;\n",
       "    }\n",
       "\n",
       "    .dataframe tbody tr th {\n",
       "        vertical-align: top;\n",
       "    }\n",
       "\n",
       "    .dataframe thead th {\n",
       "        text-align: right;\n",
       "    }\n",
       "</style>\n",
       "<table border=\"1\" class=\"dataframe\">\n",
       "  <thead>\n",
       "    <tr style=\"text-align: right;\">\n",
       "      <th></th>\n",
       "      <th>QAgNO3(%)</th>\n",
       "      <th>Qpva(%)</th>\n",
       "      <th>Qtsc(%)</th>\n",
       "      <th>Qseed(%)</th>\n",
       "      <th>Qtot(uL/min)</th>\n",
       "      <th>loss</th>\n",
       "    </tr>\n",
       "  </thead>\n",
       "  <tbody>\n",
       "    <tr>\n",
       "      <th>0</th>\n",
       "      <td>4.530000</td>\n",
       "      <td>21.000000</td>\n",
       "      <td>6.670000</td>\n",
       "      <td>19.500000</td>\n",
       "      <td>20.000000</td>\n",
       "      <td>0.875957</td>\n",
       "    </tr>\n",
       "    <tr>\n",
       "      <th>1</th>\n",
       "      <td>5.598775</td>\n",
       "      <td>19.001531</td>\n",
       "      <td>9.871363</td>\n",
       "      <td>5.598775</td>\n",
       "      <td>21.766667</td>\n",
       "      <td>0.793268</td>\n",
       "    </tr>\n",
       "    <tr>\n",
       "      <th>2</th>\n",
       "      <td>5.869822</td>\n",
       "      <td>18.599606</td>\n",
       "      <td>4.228797</td>\n",
       "      <td>13.100592</td>\n",
       "      <td>16.900000</td>\n",
       "      <td>0.901779</td>\n",
       "    </tr>\n",
       "    <tr>\n",
       "      <th>3</th>\n",
       "      <td>6.429792</td>\n",
       "      <td>34.800977</td>\n",
       "      <td>18.400488</td>\n",
       "      <td>17.599512</td>\n",
       "      <td>27.300000</td>\n",
       "      <td>0.905287</td>\n",
       "    </tr>\n",
       "    <tr>\n",
       "      <th>4</th>\n",
       "      <td>6.672673</td>\n",
       "      <td>39.003003</td>\n",
       "      <td>16.300300</td>\n",
       "      <td>17.297297</td>\n",
       "      <td>11.100000</td>\n",
       "      <td>0.854642</td>\n",
       "    </tr>\n",
       "    <tr>\n",
       "      <th>...</th>\n",
       "      <td>...</td>\n",
       "      <td>...</td>\n",
       "      <td>...</td>\n",
       "      <td>...</td>\n",
       "      <td>...</td>\n",
       "      <td>...</td>\n",
       "    </tr>\n",
       "    <tr>\n",
       "      <th>159</th>\n",
       "      <td>35.500000</td>\n",
       "      <td>25.000000</td>\n",
       "      <td>25.500000</td>\n",
       "      <td>0.500000</td>\n",
       "      <td>13.333333</td>\n",
       "      <td>0.768887</td>\n",
       "    </tr>\n",
       "    <tr>\n",
       "      <th>160</th>\n",
       "      <td>36.500000</td>\n",
       "      <td>22.000000</td>\n",
       "      <td>2.500000</td>\n",
       "      <td>6.500000</td>\n",
       "      <td>30.000000</td>\n",
       "      <td>0.169340</td>\n",
       "    </tr>\n",
       "    <tr>\n",
       "      <th>161</th>\n",
       "      <td>36.501053</td>\n",
       "      <td>14.000000</td>\n",
       "      <td>10.501053</td>\n",
       "      <td>4.501053</td>\n",
       "      <td>31.666667</td>\n",
       "      <td>0.366709</td>\n",
       "    </tr>\n",
       "    <tr>\n",
       "      <th>162</th>\n",
       "      <td>38.421553</td>\n",
       "      <td>38.529319</td>\n",
       "      <td>4.301109</td>\n",
       "      <td>7.990491</td>\n",
       "      <td>21.033333</td>\n",
       "      <td>0.232589</td>\n",
       "    </tr>\n",
       "    <tr>\n",
       "      <th>163</th>\n",
       "      <td>42.809816</td>\n",
       "      <td>37.519018</td>\n",
       "      <td>0.500613</td>\n",
       "      <td>0.530061</td>\n",
       "      <td>27.166667</td>\n",
       "      <td>0.696665</td>\n",
       "    </tr>\n",
       "  </tbody>\n",
       "</table>\n",
       "<p>164 rows × 6 columns</p>\n",
       "</div>"
      ],
      "text/plain": [
       "     QAgNO3(%)    Qpva(%)    Qtsc(%)   Qseed(%)  Qtot(uL/min)      loss\n",
       "0     4.530000  21.000000   6.670000  19.500000     20.000000  0.875957\n",
       "1     5.598775  19.001531   9.871363   5.598775     21.766667  0.793268\n",
       "2     5.869822  18.599606   4.228797  13.100592     16.900000  0.901779\n",
       "3     6.429792  34.800977  18.400488  17.599512     27.300000  0.905287\n",
       "4     6.672673  39.003003  16.300300  17.297297     11.100000  0.854642\n",
       "..         ...        ...        ...        ...           ...       ...\n",
       "159  35.500000  25.000000  25.500000   0.500000     13.333333  0.768887\n",
       "160  36.500000  22.000000   2.500000   6.500000     30.000000  0.169340\n",
       "161  36.501053  14.000000  10.501053   4.501053     31.666667  0.366709\n",
       "162  38.421553  38.529319   4.301109   7.990491     21.033333  0.232589\n",
       "163  42.809816  37.519018   0.500613   0.530061     27.166667  0.696665\n",
       "\n",
       "[164 rows x 6 columns]"
      ]
     },
     "execution_count": 3,
     "metadata": {},
     "output_type": "execute_result"
    }
   ],
   "source": [
    "dataset = pd.read_csv(r'/Users/Liangqiaohao/Desktop/PV Lab/2020/March/Learning project/AgNN/AgBO_loss.csv')\n",
    "X = dataset.iloc[:,4:10]\n",
    "X\n",
    "\n",
    "X_run = X.groupby(['QAgNO3(%)', 'Qpva(%)', 'Qtsc(%)', 'Qseed(%)', 'Qtot(uL/min)'])['loss'].agg(lambda x: x.unique().mean())\n",
    "X_run = (X_run.to_frame()).reset_index()\n",
    "X_run['Qtot(uL/min)'] = X_run['Qtot(uL/min)'] / 30\n",
    "X_run"
   ]
  },
  {
   "cell_type": "code",
   "execution_count": 4,
   "metadata": {},
   "outputs": [],
   "source": [
    "features = ['QAgNO3(%)', 'Qpva(%)', 'Qtsc(%)', 'Qseed(%)', 'Qtot(uL/min)']\n",
    "X_feature = X_run[['QAgNO3(%)', 'Qpva(%)', 'Qtsc(%)', 'Qseed(%)', 'Qtot(uL/min)']].values\n",
    "\n",
    "y = np.array(X_run['loss'].values)\n",
    "\n",
    "raw_mean = np.mean(y)\n",
    "raw_std = np.std(y)\n"
   ]
  },
  {
   "cell_type": "code",
   "execution_count": 5,
   "metadata": {},
   "outputs": [],
   "source": [
    "y = (y - raw_mean) / raw_std"
   ]
  },
  {
   "cell_type": "code",
   "execution_count": 6,
   "metadata": {},
   "outputs": [],
   "source": [
    "seed_list = [5, 892, 91, 2345, 391, 77, 223, 8258, 16, 3, 84,7646,6207,4530,8206,6260,2342,3112,5187,2737,8979,4018,8223,1678,9481,2232,\n",
    "             461,7694,6091, 3189,2480,9106,1316,8500,2531,5329,9872,1388,8805,2726,119,3416,7747,3927,138,1488,232,4564,3492,9841]"
   ]
  },
  {
   "cell_type": "code",
   "execution_count": 7,
   "metadata": {},
   "outputs": [],
   "source": [
    "def calc_():\n",
    "    list_n_est = list(np.arange(3, 100))\n",
    "    test_score = []\n",
    "    std_score = []\n",
    "    param_grid = {'n_estimators': list_n_est}\n",
    "    \n",
    "    for s in seed_list[:25]:\n",
    "        print('initializing seed = ' +str(seed_list.index(s)))\n",
    "        rf = RandomForestRegressor()   \n",
    "        X_train, X_test, y_train, y_test = train_test_split(X_feature, y, test_size=0.20, random_state=1)\n",
    "        \n",
    "        grid_search = GridSearchCV(estimator = rf, param_grid = param_grid, cv = 5, n_jobs = -1, verbose = 0)\n",
    "        grid_search.fit(X_train, y_train)\n",
    "        test_score.append(grid_search.cv_results_['mean_test_score'])\n",
    "        std_score.append(grid_search.cv_results_['std_test_score'])\n",
    "        print('Finished seed')\n",
    "    return list_n_est, test_score, std_score\n",
    "        "
   ]
  },
  {
   "cell_type": "code",
   "execution_count": 8,
   "metadata": {},
   "outputs": [
    {
     "name": "stdout",
     "output_type": "stream",
     "text": [
      "initializing seed = 0\n"
     ]
    },
    {
     "name": "stderr",
     "output_type": "stream",
     "text": [
      " /opt/anaconda3/lib/python3.7/site-packages/sklearn/model_selection/_search.py:814: DeprecationWarning:The default of the `iid` parameter will change from True to False in version 0.22 and will be removed in 0.24. This will change numeric results when test-set sizes are unequal.\n"
     ]
    },
    {
     "name": "stdout",
     "output_type": "stream",
     "text": [
      "Finished seed\n",
      "initializing seed = 1\n"
     ]
    },
    {
     "name": "stderr",
     "output_type": "stream",
     "text": [
      " /opt/anaconda3/lib/python3.7/site-packages/sklearn/model_selection/_search.py:814: DeprecationWarning:The default of the `iid` parameter will change from True to False in version 0.22 and will be removed in 0.24. This will change numeric results when test-set sizes are unequal.\n"
     ]
    },
    {
     "name": "stdout",
     "output_type": "stream",
     "text": [
      "Finished seed\n",
      "initializing seed = 2\n"
     ]
    },
    {
     "name": "stderr",
     "output_type": "stream",
     "text": [
      " /opt/anaconda3/lib/python3.7/site-packages/sklearn/model_selection/_search.py:814: DeprecationWarning:The default of the `iid` parameter will change from True to False in version 0.22 and will be removed in 0.24. This will change numeric results when test-set sizes are unequal.\n"
     ]
    },
    {
     "name": "stdout",
     "output_type": "stream",
     "text": [
      "Finished seed\n",
      "initializing seed = 3\n"
     ]
    },
    {
     "name": "stderr",
     "output_type": "stream",
     "text": [
      " /opt/anaconda3/lib/python3.7/site-packages/sklearn/model_selection/_search.py:814: DeprecationWarning:The default of the `iid` parameter will change from True to False in version 0.22 and will be removed in 0.24. This will change numeric results when test-set sizes are unequal.\n"
     ]
    },
    {
     "name": "stdout",
     "output_type": "stream",
     "text": [
      "Finished seed\n",
      "initializing seed = 4\n"
     ]
    },
    {
     "name": "stderr",
     "output_type": "stream",
     "text": [
      " /opt/anaconda3/lib/python3.7/site-packages/sklearn/model_selection/_search.py:814: DeprecationWarning:The default of the `iid` parameter will change from True to False in version 0.22 and will be removed in 0.24. This will change numeric results when test-set sizes are unequal.\n"
     ]
    },
    {
     "name": "stdout",
     "output_type": "stream",
     "text": [
      "Finished seed\n",
      "initializing seed = 5\n"
     ]
    },
    {
     "name": "stderr",
     "output_type": "stream",
     "text": [
      " /opt/anaconda3/lib/python3.7/site-packages/sklearn/model_selection/_search.py:814: DeprecationWarning:The default of the `iid` parameter will change from True to False in version 0.22 and will be removed in 0.24. This will change numeric results when test-set sizes are unequal.\n"
     ]
    },
    {
     "name": "stdout",
     "output_type": "stream",
     "text": [
      "Finished seed\n",
      "initializing seed = 6\n"
     ]
    },
    {
     "name": "stderr",
     "output_type": "stream",
     "text": [
      " /opt/anaconda3/lib/python3.7/site-packages/sklearn/model_selection/_search.py:814: DeprecationWarning:The default of the `iid` parameter will change from True to False in version 0.22 and will be removed in 0.24. This will change numeric results when test-set sizes are unequal.\n"
     ]
    },
    {
     "name": "stdout",
     "output_type": "stream",
     "text": [
      "Finished seed\n",
      "initializing seed = 7\n"
     ]
    },
    {
     "name": "stderr",
     "output_type": "stream",
     "text": [
      " /opt/anaconda3/lib/python3.7/site-packages/sklearn/model_selection/_search.py:814: DeprecationWarning:The default of the `iid` parameter will change from True to False in version 0.22 and will be removed in 0.24. This will change numeric results when test-set sizes are unequal.\n"
     ]
    },
    {
     "name": "stdout",
     "output_type": "stream",
     "text": [
      "Finished seed\n",
      "initializing seed = 8\n"
     ]
    },
    {
     "name": "stderr",
     "output_type": "stream",
     "text": [
      " /opt/anaconda3/lib/python3.7/site-packages/sklearn/model_selection/_search.py:814: DeprecationWarning:The default of the `iid` parameter will change from True to False in version 0.22 and will be removed in 0.24. This will change numeric results when test-set sizes are unequal.\n"
     ]
    },
    {
     "name": "stdout",
     "output_type": "stream",
     "text": [
      "Finished seed\n",
      "initializing seed = 9\n"
     ]
    },
    {
     "name": "stderr",
     "output_type": "stream",
     "text": [
      " /opt/anaconda3/lib/python3.7/site-packages/sklearn/model_selection/_search.py:814: DeprecationWarning:The default of the `iid` parameter will change from True to False in version 0.22 and will be removed in 0.24. This will change numeric results when test-set sizes are unequal.\n"
     ]
    },
    {
     "name": "stdout",
     "output_type": "stream",
     "text": [
      "Finished seed\n",
      "initializing seed = 10\n"
     ]
    },
    {
     "name": "stderr",
     "output_type": "stream",
     "text": [
      " /opt/anaconda3/lib/python3.7/site-packages/sklearn/model_selection/_search.py:814: DeprecationWarning:The default of the `iid` parameter will change from True to False in version 0.22 and will be removed in 0.24. This will change numeric results when test-set sizes are unequal.\n"
     ]
    },
    {
     "name": "stdout",
     "output_type": "stream",
     "text": [
      "Finished seed\n",
      "initializing seed = 11\n"
     ]
    },
    {
     "name": "stderr",
     "output_type": "stream",
     "text": [
      " /opt/anaconda3/lib/python3.7/site-packages/sklearn/model_selection/_search.py:814: DeprecationWarning:The default of the `iid` parameter will change from True to False in version 0.22 and will be removed in 0.24. This will change numeric results when test-set sizes are unequal.\n"
     ]
    },
    {
     "name": "stdout",
     "output_type": "stream",
     "text": [
      "Finished seed\n",
      "initializing seed = 12\n"
     ]
    },
    {
     "name": "stderr",
     "output_type": "stream",
     "text": [
      " /opt/anaconda3/lib/python3.7/site-packages/sklearn/model_selection/_search.py:814: DeprecationWarning:The default of the `iid` parameter will change from True to False in version 0.22 and will be removed in 0.24. This will change numeric results when test-set sizes are unequal.\n"
     ]
    },
    {
     "name": "stdout",
     "output_type": "stream",
     "text": [
      "Finished seed\n",
      "initializing seed = 13\n"
     ]
    },
    {
     "name": "stderr",
     "output_type": "stream",
     "text": [
      " /opt/anaconda3/lib/python3.7/site-packages/sklearn/model_selection/_search.py:814: DeprecationWarning:The default of the `iid` parameter will change from True to False in version 0.22 and will be removed in 0.24. This will change numeric results when test-set sizes are unequal.\n"
     ]
    },
    {
     "name": "stdout",
     "output_type": "stream",
     "text": [
      "Finished seed\n",
      "initializing seed = 14\n"
     ]
    },
    {
     "name": "stderr",
     "output_type": "stream",
     "text": [
      " /opt/anaconda3/lib/python3.7/site-packages/sklearn/model_selection/_search.py:814: DeprecationWarning:The default of the `iid` parameter will change from True to False in version 0.22 and will be removed in 0.24. This will change numeric results when test-set sizes are unequal.\n"
     ]
    },
    {
     "name": "stdout",
     "output_type": "stream",
     "text": [
      "Finished seed\n",
      "initializing seed = 15\n"
     ]
    },
    {
     "name": "stderr",
     "output_type": "stream",
     "text": [
      " /opt/anaconda3/lib/python3.7/site-packages/sklearn/model_selection/_search.py:814: DeprecationWarning:The default of the `iid` parameter will change from True to False in version 0.22 and will be removed in 0.24. This will change numeric results when test-set sizes are unequal.\n"
     ]
    },
    {
     "name": "stdout",
     "output_type": "stream",
     "text": [
      "Finished seed\n",
      "initializing seed = 16\n"
     ]
    },
    {
     "name": "stderr",
     "output_type": "stream",
     "text": [
      " /opt/anaconda3/lib/python3.7/site-packages/sklearn/model_selection/_search.py:814: DeprecationWarning:The default of the `iid` parameter will change from True to False in version 0.22 and will be removed in 0.24. This will change numeric results when test-set sizes are unequal.\n"
     ]
    },
    {
     "name": "stdout",
     "output_type": "stream",
     "text": [
      "Finished seed\n",
      "initializing seed = 17\n"
     ]
    },
    {
     "name": "stderr",
     "output_type": "stream",
     "text": [
      " /opt/anaconda3/lib/python3.7/site-packages/sklearn/model_selection/_search.py:814: DeprecationWarning:The default of the `iid` parameter will change from True to False in version 0.22 and will be removed in 0.24. This will change numeric results when test-set sizes are unequal.\n"
     ]
    },
    {
     "name": "stdout",
     "output_type": "stream",
     "text": [
      "Finished seed\n",
      "initializing seed = 18\n"
     ]
    },
    {
     "name": "stderr",
     "output_type": "stream",
     "text": [
      " /opt/anaconda3/lib/python3.7/site-packages/sklearn/model_selection/_search.py:814: DeprecationWarning:The default of the `iid` parameter will change from True to False in version 0.22 and will be removed in 0.24. This will change numeric results when test-set sizes are unequal.\n"
     ]
    },
    {
     "name": "stdout",
     "output_type": "stream",
     "text": [
      "Finished seed\n",
      "initializing seed = 19\n"
     ]
    },
    {
     "name": "stderr",
     "output_type": "stream",
     "text": [
      " /opt/anaconda3/lib/python3.7/site-packages/sklearn/model_selection/_search.py:814: DeprecationWarning:The default of the `iid` parameter will change from True to False in version 0.22 and will be removed in 0.24. This will change numeric results when test-set sizes are unequal.\n"
     ]
    },
    {
     "name": "stdout",
     "output_type": "stream",
     "text": [
      "Finished seed\n",
      "initializing seed = 20\n"
     ]
    },
    {
     "name": "stderr",
     "output_type": "stream",
     "text": [
      " /opt/anaconda3/lib/python3.7/site-packages/sklearn/model_selection/_search.py:814: DeprecationWarning:The default of the `iid` parameter will change from True to False in version 0.22 and will be removed in 0.24. This will change numeric results when test-set sizes are unequal.\n"
     ]
    },
    {
     "name": "stdout",
     "output_type": "stream",
     "text": [
      "Finished seed\n",
      "initializing seed = 21\n"
     ]
    },
    {
     "name": "stderr",
     "output_type": "stream",
     "text": [
      " /opt/anaconda3/lib/python3.7/site-packages/sklearn/model_selection/_search.py:814: DeprecationWarning:The default of the `iid` parameter will change from True to False in version 0.22 and will be removed in 0.24. This will change numeric results when test-set sizes are unequal.\n"
     ]
    },
    {
     "name": "stdout",
     "output_type": "stream",
     "text": [
      "Finished seed\n",
      "initializing seed = 22\n"
     ]
    },
    {
     "name": "stderr",
     "output_type": "stream",
     "text": [
      " /opt/anaconda3/lib/python3.7/site-packages/sklearn/model_selection/_search.py:814: DeprecationWarning:The default of the `iid` parameter will change from True to False in version 0.22 and will be removed in 0.24. This will change numeric results when test-set sizes are unequal.\n"
     ]
    },
    {
     "name": "stdout",
     "output_type": "stream",
     "text": [
      "Finished seed\n",
      "initializing seed = 23\n"
     ]
    },
    {
     "name": "stderr",
     "output_type": "stream",
     "text": [
      " /opt/anaconda3/lib/python3.7/site-packages/sklearn/model_selection/_search.py:814: DeprecationWarning:The default of the `iid` parameter will change from True to False in version 0.22 and will be removed in 0.24. This will change numeric results when test-set sizes are unequal.\n"
     ]
    },
    {
     "name": "stdout",
     "output_type": "stream",
     "text": [
      "Finished seed\n",
      "initializing seed = 24\n",
      "Finished seed\n"
     ]
    },
    {
     "name": "stderr",
     "output_type": "stream",
     "text": [
      " /opt/anaconda3/lib/python3.7/site-packages/sklearn/model_selection/_search.py:814: DeprecationWarning:The default of the `iid` parameter will change from True to False in version 0.22 and will be removed in 0.24. This will change numeric results when test-set sizes are unequal.\n"
     ]
    }
   ],
   "source": [
    "list_n_est, test_score, std_score = calc_()"
   ]
  },
  {
   "cell_type": "code",
   "execution_count": 9,
   "metadata": {},
   "outputs": [],
   "source": [
    "def aggregation_(seed, n_runs, n_fold):\n",
    "    \n",
    "    assert math.fmod(n_runs, n_fold) == 0\n",
    "    fold_size = int(n_runs / n_fold)\n",
    "    \n",
    "    random.seed(seed)\n",
    "    \n",
    "    index_runs = list(np.arange(n_runs))\n",
    "    \n",
    "    agg_list = []\n",
    "    \n",
    "    i = 0\n",
    "    \n",
    "    while i < n_fold:\n",
    "    \n",
    "        index_i = random.sample(index_runs, fold_size)\n",
    "        for j in index_i:\n",
    "            index_runs.remove(j)\n",
    "            \n",
    "        agg_list.append(index_i)\n",
    "        \n",
    "        i += 1\n",
    "        \n",
    "    return agg_list\n",
    "\n",
    "\n",
    "\n",
    "def avg_(x):\n",
    "#     nsteps\n",
    "    n_eval = len(list_n_est) \n",
    "    \n",
    "#     fold\n",
    "    n_fold = 5\n",
    "    \n",
    "#     rows = # of ensembles = 25\n",
    "    n_runs = len(x)\n",
    "    \n",
    "    assert math.fmod(n_runs, n_fold) == 0\n",
    "    fold_size = int(n_runs / n_fold)\n",
    "    \n",
    "#     # of seeds \n",
    "    seed_list = [5, 892, 91, 2345, 391, 77, 223, 8258, 16, 3]\n",
    "    n_sets = len(seed_list)\n",
    "    \n",
    "    l_index_list = []\n",
    "    \n",
    "    for i in np.arange(n_sets):\n",
    "        \n",
    "        s = aggregation_(seed_list[i], n_runs, n_fold)\n",
    "        l_index_list.extend(s)\n",
    "\n",
    "#     rows in l_index_list\n",
    "\n",
    "    assert len(l_index_list) == n_sets * n_fold\n",
    "    \n",
    "\n",
    "    \n",
    "    l_avg_runs = []\n",
    "\n",
    "    for i in np.arange(len(l_index_list)):\n",
    "        \n",
    "        avg_run = np.zeros(n_eval)\n",
    "        for j in l_index_list[i]:\n",
    "            \n",
    "            avg_run += np.array(x[j])\n",
    "            \n",
    "        avg_run = avg_run/fold_size\n",
    "        l_avg_runs.append(avg_run)\n",
    "    \n",
    "\n",
    "    assert n_eval == len(l_avg_runs[0])\n",
    "    \n",
    "    return l_avg_runs \n",
    "\n",
    "def test_mean_(l_avg_runs):\n",
    "    \n",
    "    n_eval = len(l_avg_runs[0])\n",
    "    \n",
    "    mean_ = [None for i in np.arange(n_eval)]\n",
    "    std_ = [None for i in np.arange(n_eval)]\n",
    "    median_ = [None for i in np.arange(n_eval)]\n",
    "    low_q = [None for i in np.arange(n_eval)]\n",
    "    high_q = [None for i in np.arange(n_eval)]\n",
    "    \n",
    "\n",
    "    \n",
    "    for i in np.arange(n_eval):\n",
    "        i_column = []\n",
    "        for j in np.arange(len(l_avg_runs)):\n",
    "            i_column.append(l_avg_runs[j][i])\n",
    "        \n",
    "        i_column = np.array(i_column)\n",
    "        mean_[i] = np.mean(i_column)\n",
    "        median_[i] = np.median(i_column)\n",
    "        std_[i] = np.std(i_column)\n",
    "        low_q[i] = np.quantile(i_column, 0.25, out=None, overwrite_input=False, interpolation='linear')\n",
    "        high_q[i] = np.quantile(i_column, 0.75, out=None, overwrite_input=False, interpolation='linear')\n",
    "        \n",
    "        \n",
    "    return np.array(median_), np.array(low_q), np.array(high_q), np.array(mean_)\n",
    "\n",
    "\n"
   ]
  },
  {
   "cell_type": "code",
   "execution_count": 10,
   "metadata": {},
   "outputs": [],
   "source": [
    "aaa = test_mean_(avg_(test_score))"
   ]
  },
  {
   "cell_type": "code",
   "execution_count": 11,
   "metadata": {},
   "outputs": [
    {
     "data": {
      "text/plain": [
       "Text(0.5, 0, 'n_estimators')"
      ]
     },
     "execution_count": 11,
     "metadata": {},
     "output_type": "execute_result"
    },
    {
     "data": {
      "image/png": "[encoded data removed]",
      "text/plain": [
       "<Figure size 1440x720 with 2 Axes>"
      ]
     },
     "metadata": {
      "needs_background": "light"
     },
     "output_type": "display_data"
    }
   ],
   "source": [
    "fig = plt.figure(figsize=(20,10))\n",
    "ax0 = fig.add_subplot(121)\n",
    "ax1 = fig.add_subplot(122)\n",
    "\n",
    "ax0.plot(list_n_est, aaa[0])\n",
    "ax0.fill_between(list_n_est, aaa[1], aaa[2], alpha=0.2)\n",
    "# ax0.legend()\n",
    "# ax0.set_xscale('log')\n",
    "ax0.set_ylabel('Accuracy')\n",
    "ax0.set_xlabel('n_estimators')\n",
    "\n",
    "\n",
    "\n",
    "ax1.plot(list_n_est, np.mean(np.array(test_score), axis = 0))\n",
    "# ax0.legend()\n",
    "# ax0.set_xscale('log')\n",
    "ax0.set_ylabel('Accuracy')\n",
    "ax0.set_xlabel('n_estimators')"
   ]
  },
  {
   "cell_type": "code",
   "execution_count": 13,
   "metadata": {},
   "outputs": [
    {
     "name": "stdout",
     "output_type": "stream",
     "text": [
      "(array([0.81037742, 0.8279717 , 0.83266771, 0.83335311, 0.84436774,\n",
      "       0.84718876, 0.84720651, 0.85466232, 0.85304419, 0.85197346,\n",
      "       0.85474235, 0.85270651, 0.85597281, 0.85662208, 0.85906881,\n",
      "       0.85635026, 0.85720271, 0.8567109 , 0.85760893, 0.85753042,\n",
      "       0.85937665, 0.86332683, 0.86079637, 0.85917741, 0.86009282,\n",
      "       0.86073768, 0.86224713, 0.86167585, 0.86374603, 0.85999156,\n",
      "       0.86173924, 0.86109659, 0.86379251, 0.86413695, 0.86134226,\n",
      "       0.86222251, 0.8619792 , 0.8613601 , 0.86249728, 0.86267564,\n",
      "       0.86386486, 0.86465134, 0.86202976, 0.86355041, 0.86313503,\n",
      "       0.86337124, 0.86268158, 0.86392664, 0.86327517, 0.86388103,\n",
      "       0.86467091, 0.86318709, 0.86518827, 0.86349539, 0.86578043,\n",
      "       0.86463087, 0.8637964 , 0.86437364, 0.86546884, 0.86383233,\n",
      "       0.86564847, 0.86327047, 0.86452713, 0.86472033, 0.86510509,\n",
      "       0.8647813 , 0.86355025, 0.86486364, 0.86442172, 0.86546061,\n",
      "       0.86405567, 0.86645442, 0.86500505, 0.86536166, 0.86461617,\n",
      "       0.86496203, 0.86559197, 0.86417835, 0.86504721, 0.86529253,\n",
      "       0.86407247, 0.86484381, 0.86465242, 0.86482417, 0.86595971,\n",
      "       0.86460605, 0.86596426, 0.86610624, 0.8656083 , 0.86468782,\n",
      "       0.86430456, 0.8650898 , 0.86457405, 0.86564589, 0.86548512,\n",
      "       0.86489138, 0.86390271]), array([0.80676511, 0.82072578, 0.82768254, 0.83036659, 0.84088144,\n",
      "       0.84379779, 0.84242401, 0.85154545, 0.85058119, 0.84843708,\n",
      "       0.85268892, 0.85001181, 0.8528928 , 0.85345713, 0.85642978,\n",
      "       0.85290337, 0.85523602, 0.85441597, 0.85553113, 0.85451657,\n",
      "       0.85782805, 0.86181075, 0.85884775, 0.85723721, 0.85782168,\n",
      "       0.85877687, 0.8600907 , 0.85840525, 0.8621324 , 0.85852048,\n",
      "       0.85991861, 0.85964837, 0.86218288, 0.86249174, 0.8598122 ,\n",
      "       0.86058365, 0.86040557, 0.86005038, 0.8613106 , 0.86164593,\n",
      "       0.86132984, 0.86298632, 0.86077946, 0.86219155, 0.86179895,\n",
      "       0.8628308 , 0.86092557, 0.86305317, 0.86248034, 0.86265907,\n",
      "       0.86296522, 0.86227212, 0.86427777, 0.86182326, 0.86455761,\n",
      "       0.86321538, 0.86222205, 0.86317784, 0.86374156, 0.86301014,\n",
      "       0.86408154, 0.86260652, 0.86366175, 0.86361756, 0.86410243,\n",
      "       0.86374741, 0.86284824, 0.86322486, 0.8626078 , 0.86452324,\n",
      "       0.86272046, 0.86518555, 0.86374321, 0.86405128, 0.86385218,\n",
      "       0.86424251, 0.86455122, 0.86293809, 0.86419758, 0.86406727,\n",
      "       0.86322286, 0.8638077 , 0.86374111, 0.8641275 , 0.86530945,\n",
      "       0.86349067, 0.86522812, 0.86538354, 0.86445028, 0.86395665,\n",
      "       0.86297405, 0.86385204, 0.86328703, 0.86416841, 0.86413848,\n",
      "       0.86383121, 0.86281882]), array([0.81710497, 0.83213694, 0.83666647, 0.83764678, 0.84881521,\n",
      "       0.8498879 , 0.85022057, 0.85719844, 0.85555982, 0.85347729,\n",
      "       0.85667018, 0.85666326, 0.85757924, 0.85831307, 0.86115283,\n",
      "       0.85939784, 0.85989517, 0.85969216, 0.86026652, 0.85954358,\n",
      "       0.86197703, 0.8649579 , 0.86171963, 0.86074857, 0.86252845,\n",
      "       0.86266777, 0.86480295, 0.86453023, 0.86659452, 0.86166078,\n",
      "       0.86255581, 0.86284734, 0.86460381, 0.865598  , 0.86275353,\n",
      "       0.86366467, 0.86344832, 0.86261014, 0.86404029, 0.86400161,\n",
      "       0.86565979, 0.86592249, 0.86393163, 0.86410672, 0.86459548,\n",
      "       0.86463774, 0.8632661 , 0.86538219, 0.86410325, 0.86542752,\n",
      "       0.86578592, 0.86418797, 0.86642124, 0.8648416 , 0.86665609,\n",
      "       0.86592509, 0.86500661, 0.86557856, 0.86619674, 0.86502527,\n",
      "       0.86653378, 0.8646498 , 0.86571295, 0.86578927, 0.86709497,\n",
      "       0.86648417, 0.86443208, 0.86605582, 0.86605919, 0.8664494 ,\n",
      "       0.8654442 , 0.86863172, 0.86611504, 0.86624961, 0.86545159,\n",
      "       0.86591945, 0.86621916, 0.86539644, 0.86622347, 0.86622063,\n",
      "       0.86554769, 0.86580684, 0.86534618, 0.86577106, 0.86681514,\n",
      "       0.8655419 , 0.86703148, 0.86672173, 0.86659623, 0.86553541,\n",
      "       0.86535657, 0.86576347, 0.8656384 , 0.86700967, 0.86633458,\n",
      "       0.86618255, 0.86452254]), array([0.81104814, 0.82713211, 0.83186636, 0.83358623, 0.84472591,\n",
      "       0.84755191, 0.84633754, 0.85440357, 0.85325585, 0.85105863,\n",
      "       0.854628  , 0.85317732, 0.85547626, 0.85580152, 0.8591288 ,\n",
      "       0.85574595, 0.857411  , 0.85689608, 0.85780692, 0.8567536 ,\n",
      "       0.85964032, 0.86328273, 0.86032763, 0.85906295, 0.86012161,\n",
      "       0.86095774, 0.86224665, 0.86135572, 0.86422266, 0.85988762,\n",
      "       0.86135448, 0.8612696 , 0.86335418, 0.86410954, 0.86106442,\n",
      "       0.86205833, 0.86199174, 0.86133015, 0.8626326 , 0.86268157,\n",
      "       0.86355998, 0.86432466, 0.86218658, 0.86320835, 0.86329505,\n",
      "       0.86368188, 0.86237774, 0.86433627, 0.86339803, 0.86380232,\n",
      "       0.86432407, 0.86329931, 0.8652984 , 0.86330853, 0.86564905,\n",
      "       0.86469516, 0.86376791, 0.86447737, 0.86505974, 0.86406489,\n",
      "       0.86538111, 0.86364267, 0.86470297, 0.86462254, 0.8653326 ,\n",
      "       0.86500438, 0.86355461, 0.86468353, 0.86434178, 0.86537671,\n",
      "       0.86421411, 0.86676142, 0.86488218, 0.86517521, 0.86469201,\n",
      "       0.86508121, 0.86545077, 0.8642725 , 0.86519885, 0.86515535,\n",
      "       0.86433927, 0.86501994, 0.86458277, 0.86490163, 0.865979  ,\n",
      "       0.86461237, 0.86611727, 0.86623231, 0.86542009, 0.86471472,\n",
      "       0.86424824, 0.86507722, 0.86454605, 0.86568839, 0.8653483 ,\n",
      "       0.86487062, 0.86374019]))\n"
     ]
    }
   ],
   "source": [
    "print(aaa)"
   ]
  },
  {
   "cell_type": "code",
   "execution_count": null,
   "metadata": {},
   "outputs": [],
   "source": []
  }
 ],
 "metadata": {
  "kernelspec": {
   "display_name": "Python 3",
   "language": "python",
   "name": "python3"
  },
  "language_info": {
   "codemirror_mode": {
    "name": "ipython",
    "version": 3
   },
   "file_extension": ".py",
   "mimetype": "text/x-python",
   "name": "python",
   "nbconvert_exporter": "python",
   "pygments_lexer": "ipython3",
   "version": "3.7.4"
  }
 },
 "nbformat": 4,
 "nbformat_minor": 4
}
