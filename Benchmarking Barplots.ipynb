{
 "cells": [
  {
   "cell_type": "code",
   "execution_count": 1,
   "metadata": {},
   "outputs": [
    {
     "name": "stdout",
     "output_type": "stream",
     "text": [
      "/Users/liangqiaohao/Downloads/PV Lab/2020/March/Learning project/3D printing\n"
     ]
    }
   ],
   "source": [
    "cd /Users/liangqiaohao/Downloads/PV Lab/2020/March/Learning project/3D printing"
   ]
  },
  {
   "cell_type": "code",
   "execution_count": 2,
   "metadata": {},
   "outputs": [],
   "source": [
    "import numpy as np\n",
    "import torch\n",
    "import math\n",
    "import matplotlib\n",
    "import matplotlib.pyplot as plt\n",
    "import pandas as pd\n",
    "import seaborn as sns\n",
    "import GPyOpt\n",
    "import GPy\n",
    "\n",
    "import os\n",
    "\n",
    "import matplotlib as mpl\n",
    "import matplotlib.tri as tri\n",
    "\n",
    "import ternary\n",
    "import pickle\n",
    "import datetime\n",
    "\n",
    "from collections import Counter\n",
    "import matplotlib.ticker as ticker\n",
    "\n",
    "import pyDOE\n",
    "import random\n",
    "from scipy.stats import norm\n",
    "\n",
    "from sklearn.ensemble import RandomForestRegressor"
   ]
  },
  {
   "cell_type": "code",
   "execution_count": 3,
   "metadata": {},
   "outputs": [
    {
     "data": {
      "text/html": [
       "<div>\n",
       "<style scoped>\n",
       "    .dataframe tbody tr th:only-of-type {\n",
       "        vertical-align: middle;\n",
       "    }\n",
       "\n",
       "    .dataframe tbody tr th {\n",
       "        vertical-align: top;\n",
       "    }\n",
       "\n",
       "    .dataframe thead th {\n",
       "        text-align: right;\n",
       "    }\n",
       "</style>\n",
       "<table border=\"1\" class=\"dataframe\">\n",
       "  <thead>\n",
       "    <tr style=\"text-align: right;\">\n",
       "      <th></th>\n",
       "      <th>Domain</th>\n",
       "      <th>N</th>\n",
       "      <th>n_de_ALM = 0.80</th>\n",
       "      <th>n_all_ALM = 0.80</th>\n",
       "      <th>ratio_all</th>\n",
       "      <th>n_any_ALM = 1</th>\n",
       "      <th>EF</th>\n",
       "      <th>AF</th>\n",
       "    </tr>\n",
       "  </thead>\n",
       "  <tbody>\n",
       "    <tr>\n",
       "      <th>0</th>\n",
       "      <td>AM: Cross barrel</td>\n",
       "      <td>600</td>\n",
       "      <td>NaN</td>\n",
       "      <td>35</td>\n",
       "      <td>5.8</td>\n",
       "      <td>4</td>\n",
       "      <td>15.7</td>\n",
       "      <td>15.1</td>\n",
       "    </tr>\n",
       "    <tr>\n",
       "      <th>1</th>\n",
       "      <td>P3HT CNT</td>\n",
       "      <td>178</td>\n",
       "      <td>NaN</td>\n",
       "      <td>35</td>\n",
       "      <td>19.7</td>\n",
       "      <td>10</td>\n",
       "      <td>4.0</td>\n",
       "      <td>4.1</td>\n",
       "    </tr>\n",
       "    <tr>\n",
       "      <th>2</th>\n",
       "      <td>Ag-NanoP</td>\n",
       "      <td>164</td>\n",
       "      <td>NaN</td>\n",
       "      <td>20</td>\n",
       "      <td>12.2</td>\n",
       "      <td>12</td>\n",
       "      <td>4.1</td>\n",
       "      <td>4.2</td>\n",
       "    </tr>\n",
       "    <tr>\n",
       "      <th>3</th>\n",
       "      <td>AM: ARES</td>\n",
       "      <td>100</td>\n",
       "      <td>NaN</td>\n",
       "      <td>25</td>\n",
       "      <td>25.0</td>\n",
       "      <td>12</td>\n",
       "      <td>2.7</td>\n",
       "      <td>2.5</td>\n",
       "    </tr>\n",
       "    <tr>\n",
       "      <th>4</th>\n",
       "      <td>Perovskite</td>\n",
       "      <td>94</td>\n",
       "      <td>NaN</td>\n",
       "      <td>30</td>\n",
       "      <td>31.9</td>\n",
       "      <td>11</td>\n",
       "      <td>1.8</td>\n",
       "      <td>1.7</td>\n",
       "    </tr>\n",
       "  </tbody>\n",
       "</table>\n",
       "</div>"
      ],
      "text/plain": [
       "             Domain    N  n_de_ALM = 0.80  n_all_ALM = 0.80  ratio_all  \\\n",
       "0  AM: Cross barrel  600              NaN                35        5.8   \n",
       "1          P3HT CNT  178              NaN                35       19.7   \n",
       "2          Ag-NanoP  164              NaN                20       12.2   \n",
       "3          AM: ARES  100              NaN                25       25.0   \n",
       "4        Perovskite   94              NaN                30       31.9   \n",
       "\n",
       "   n_any_ALM = 1    EF    AF  \n",
       "0              4  15.7  15.1  \n",
       "1             10   4.0   4.1  \n",
       "2             12   4.1   4.2  \n",
       "3             12   2.7   2.5  \n",
       "4             11   1.8   1.7  "
      ]
     },
     "execution_count": 3,
     "metadata": {},
     "output_type": "execute_result"
    }
   ],
   "source": [
    "dataset = pd.read_csv(r'/Users/Liangqiaohao/Downloads/PV Lab/2020/March/Learning project/Secondary Data.csv')\n",
    "\n",
    "X = dataset.iloc[:,0:8]\n",
    "X"
   ]
  },
  {
   "cell_type": "code",
   "execution_count": 4,
   "metadata": {},
   "outputs": [
    {
     "data": {
      "text/plain": [
       "array([[ 5.8, 15.7, 15.1],\n",
       "       [19.7,  4. ,  4.1],\n",
       "       [12.2,  4.1,  4.2],\n",
       "       [25. ,  2.7,  2.5],\n",
       "       [31.9,  1.8,  1.7]])"
      ]
     },
     "execution_count": 4,
     "metadata": {},
     "output_type": "execute_result"
    }
   ],
   "source": [
    "plotting_data = X[['ratio_all', 'EF', 'AF']].values\n",
    "plotting_data"
   ]
  },
  {
   "cell_type": "code",
   "execution_count": 10,
   "metadata": {},
   "outputs": [
    {
     "data": {
      "image/png": "[encoded data removed]",
      "text/plain": [
       "<Figure size 720x720 with 1 Axes>"
      ]
     },
     "metadata": {
      "needs_background": "light"
     },
     "output_type": "display_data"
    }
   ],
   "source": [
    "fig = plt.figure(figsize=(10,10))\n",
    "ax = fig.add_subplot(111)\n",
    "\n",
    "dataset_names = ['AM: Cross barrel','P3HT CNT', 'Ag-NanoP', 'AM: ARES','Perovskite',]\n",
    "x = np.array([3,6,9])\n",
    "width = 0.43\n",
    "colors = ['#0070c0','#fc6766','#00b150','#ed7d31', '#7031a0']\n",
    "\n",
    "for i in np.arange(len(dataset_names)):\n",
    "    name = dataset_names[i]\n",
    "    values = plotting_data.T[:,i]\n",
    "    rects1 = ax.bar(x-width*(2-i), values,  width, alpha = 0.8, capsize = 5, label = name, color = colors[i])\n",
    "    \n",
    "    for j in np.arange(len(rects1)):\n",
    "            rect = rects1[j]\n",
    "            height = rect.get_height()\n",
    "            if j == 0:\n",
    "                ax.text(rect.get_x() + rect.get_width()/2., height + 0.05, str(values[j]) +'%',ha='center', va='bottom', fontsize = 8, weight = 'bold')\n",
    "            else:\n",
    "                ax.text(rect.get_x() + rect.get_width()/2., height + 0.05, str(values[j]),ha='center', va='bottom', weight = 'bold')\n",
    "\n",
    "\n",
    "\n",
    "# Add some text for labels, title and custom x-axis tick labels, etc.\n",
    "\n",
    "\n",
    "ax.spines['right'].set_visible(False)\n",
    "ax.spines['top'].set_visible(False)\n",
    "ax.spines['left'].set_visible(False)\n",
    "ax.tick_params(left=False)\n",
    "ax.xaxis.set_ticks_position('bottom')\n",
    "\n",
    "# ax.set_title('Iterations by Regression Methods', fontsize = 20)\n",
    "ax.set_xticks(x)\n",
    "plt.xticks(rotation = 45)\n",
    "# ax.set_ylim(0, 17)\n",
    "# plt.yticks(fontsize = 20)\n",
    "ax.set_xticklabels(['%cycles(all_ALM=0.8)', 'EF_max', 'AF_max'], fontsize = 20)\n",
    "ax.legend(fontsize = 20, loc='upper left', bbox_to_anchor= (1.0, 0.75))\n",
    "\n",
    "\n",
    "\n",
    "\n",
    "plt.show()"
   ]
  },
  {
   "cell_type": "code",
   "execution_count": null,
   "metadata": {},
   "outputs": [],
   "source": []
  },
  {
   "cell_type": "code",
   "execution_count": null,
   "metadata": {},
   "outputs": [],
   "source": []
  }
 ],
 "metadata": {
  "kernelspec": {
   "display_name": "Python 3",
   "language": "python",
   "name": "python3"
  },
  "language_info": {
   "codemirror_mode": {
    "name": "ipython",
    "version": 3
   },
   "file_extension": ".py",
   "mimetype": "text/x-python",
   "name": "python",
   "nbconvert_exporter": "python",
   "pygments_lexer": "ipython3",
   "version": "3.7.6"
  }
 },
 "nbformat": 4,
 "nbformat_minor": 4
}
